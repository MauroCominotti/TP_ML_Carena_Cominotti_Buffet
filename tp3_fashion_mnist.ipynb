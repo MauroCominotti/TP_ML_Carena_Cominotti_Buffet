{
  "nbformat": 4,
  "nbformat_minor": 0,
  "metadata": {
    "colab": {
      "name": "tp3_fashion_mnist.ipynb",
      "private_outputs": true,
      "provenance": [],
      "authorship_tag": "ABX9TyNfFKG+yONRreCotrTF0Nzm"
    },
    "kernelspec": {
      "name": "python3",
      "display_name": "Python 3"
    },
    "language_info": {
      "name": "python"
    }
  },
  "cells": [
    {
      "cell_type": "code",
      "execution_count": null,
      "metadata": {
        "id": "V1t-amysyks2"
      },
      "outputs": [],
      "source": [
        "# de python, para especificar rutas de archivos y directorios\n",
        "from pathlib import Path\n",
        "\n",
        "# lib para trabajar con arrays\n",
        "import numpy as np\n",
        "\n",
        "# lib que usamos para mostrar las imágenes\n",
        "import matplotlib.pyplot as plt\n",
        "\n",
        "# libs que usamos para construir y entrenar redes neuronales, y que además tiene utilidades para leer sets de \n",
        "# imágenes\n",
        "from tensorflow.keras.models import Sequential\n",
        "from tensorflow.keras.layers import Dense, Input, Dropout, Convolution2D, MaxPooling2D, Flatten\n",
        "from tensorflow.keras.preprocessing.image import load_img, img_to_array, ImageDataGenerator\n",
        "\n",
        "# libs que usamos para tareas generales de machine learning. En este caso, métricas\n",
        "from sklearn.metrics import accuracy_score, confusion_matrix\n",
        "\n",
        "# configuración para que las imágenes se vean dentro del notebook\n",
        "%matplotlib inline"
      ]
    },
    {
      "cell_type": "code",
      "source": [
        "tf.keras.datasets.fashion_mnist.load_data()"
      ],
      "metadata": {
        "id": "PQHtGpZLzXGT"
      },
      "execution_count": null,
      "outputs": []
    }
  ]
}