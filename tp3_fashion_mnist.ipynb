{
 "cells": [
  {
   "cell_type": "markdown",
   "metadata": {
    "id": "EE9Rlf0RUKhR"
   },
   "source": [
    "# TP 3 Machine Learning\n",
    "**Fecha y hora de entrega:** 30/05/2022 18:00\n",
    "\n",
    "*Para más información visitar [el TP en la wiki oficial de la materia](https://github.com/ucseml-team/machine-learning-course/wiki/TP3_2022)*"
   ]
  },
  {
   "cell_type": "markdown",
   "metadata": {
    "id": "xz0IG_tgLH0B"
   },
   "source": [
    "# **Fashion-MNIST Dataset**\n",
    "\n",
    "Se trata de un conjunto de datos de 60.000 imágenes en escala de grises de 28x28 de 10 categorías de moda, junto con un conjunto de prueba de 10.000 imágenes. Este conjunto de datos puede utilizarse como reemplazo de MNIST.\n",
    "\n",
    "<img src=\"https://tensorflow.org/images/fashion-mnist-sprite.png\"></img>\n",
    "\n",
    "\n",
    "**Las clases son:**\n",
    "\n",
    "Label   | Description\n",
    "--------|------------------\n",
    "0       | T-shirt/top - Remera/Top\n",
    "1       | Trouser - Pantalón\n",
    "2       | Pullover - Jersey\n",
    "3       | Dress - Vestido\n",
    "4       | Coat - Abrigo\n",
    "5       | Sandal - Sandalia\n",
    "6       | Shirt - Camisa\n",
    "7       | Sneaker - Zapatilla\n",
    "8       | Bag - Bolso\n",
    "9       | Ankle boot - Botas\n",
    "\n",
    "\n",
    "**Retorna**\n",
    "\n",
    "Tupla de matrices NumPy: (x_train, y_train), (x_test, y_test):\n",
    "\n",
    "**x_train**: matriz NumPy de uint8 de datos de imagen en escala de grises con formas (60000, 28, 28), que contiene los datos de train.\n",
    "\n",
    "**y_train**: matriz NumPy uint8 de etiquetas (enteros en el rango 0-9) con forma (60000,) para los datos de train.\n",
    "\n",
    "**x_test**: uint8 NumPy array de datos de imagen en escala de grises con forma (10000, 28, 28), que contiene los datos de test.\n",
    "\n",
    "**y_test**: matriz NumPy uint8 de etiquetas (enteros en el rango 0-9) con forma (10000,) para los datos de test."
   ]
  },
  {
   "cell_type": "markdown",
   "metadata": {
    "id": "B0MziGzXM0uN"
   },
   "source": [
    "## **Cargando al Fashion-MNIST dataset**\n",
    "\n",
    "> **load_data** function\n",
    "\n",
    "\n",
    "```\n",
    "keras.datasets.fashion_mnist.load_data()\n",
    "```\n",
    "\n",
    "---\n",
    "\n",
    "\n",
    "*Para más información acerca del dataset visitar a [la página oficial de Fashion MNIST](https://keras.io/api/datasets/fashion_mnist/)*"
   ]
  },
  {
   "cell_type": "code",
   "execution_count": null,
   "metadata": {
    "id": "_06eXq3RiviB"
   },
   "outputs": [],
   "source": [
    "# !pip install -r requirements.txt"
   ]
  },
  {
   "cell_type": "code",
   "execution_count": null,
   "metadata": {
    "id": "V1t-amysyks2"
   },
   "outputs": [],
   "source": [
    "# de python, para especificar rutas de archivos y directorios\n",
    "from pathlib import Path\n",
    "\n",
    "# lib para trabajar con arrays\n",
    "import numpy as np\n",
    "\n",
    "# lib que usamos para mostrar las imágenes\n",
    "import matplotlib.pyplot as plt\n",
    "\n",
    "# libs que usamos para construir y entrenar redes neuronales, y que además tiene \n",
    "# utilidades para leer sets de imágenes\n",
    "\n",
    "# TensorFlow y tf.keras\n",
    "import tensorflow as tf\n",
    "print(tf.__version__)\n",
    "from tensorflow import keras\n",
    "from keras.models import Sequential\n",
    "from keras.layers import Dense, Input, Dropout, Convolution2D, MaxPooling2D, Flatten\n",
    "from keras.preprocessing.image import load_img, img_to_array, ImageDataGenerator\n",
    "\n",
    "# libs que usamos para tareas generales de machine learning. En este caso, métricas\n",
    "from sklearn.metrics import accuracy_score, confusion_matrix\n",
    "\n",
    "# configuración para que las imágenes se vean dentro del notebook\n",
    "%matplotlib inline\n",
    "\n",
    "import pandas as pd"
   ]
  },
  {
   "cell_type": "code",
   "execution_count": null,
   "metadata": {
    "id": "PQHtGpZLzXGT"
   },
   "outputs": [],
   "source": [
    "fashion_mnist = keras.datasets.fashion_mnist"
   ]
  },
  {
   "cell_type": "markdown",
   "metadata": {
    "id": "h1ooW_FESvZt"
   },
   "source": [
    "## Train and Test"
   ]
  },
  {
   "cell_type": "code",
   "execution_count": null,
   "metadata": {
    "id": "tVKW6zlR99Pe"
   },
   "outputs": [],
   "source": [
    "# lo vamos a estar usando seguido\n",
    "CLOTHES = \"Remera/Top\", \"Pantalón\", \"Jersey\", \"Vestido\", \"Abrigo\", \"Sandalia\", \"Camisa\", \"Zapatilla\", \"Bolso\", \"Botas\"\n",
    "\n",
    "# (x_train, y_train), (x_test, y_test) = fashion_mnist.load_data()\n",
    "(train_images, train_labels), (test_images, test_labels) = fashion_mnist.load_data()"
   ]
  },
  {
   "cell_type": "markdown",
   "metadata": {
    "id": "slOBolp8l8Nh"
   },
   "source": [
    "# Análisis exploratorio sobre el conjunto de datos"
   ]
  },
  {
   "cell_type": "markdown",
   "metadata": {
    "id": "pz8JqtTtvh4X"
   },
   "source": [
    "## Volumetría de los datos"
   ]
  },
  {
   "cell_type": "code",
   "execution_count": null,
   "metadata": {
    "id": "cSjYRNvjm9nR"
   },
   "outputs": [],
   "source": [
    "# Ver las dimensiones del dataset\n",
    "assert train_images.shape == (60000, 28, 28)\n",
    "assert test_images.shape == (10000, 28, 28)\n",
    "assert train_labels.shape == (60000,)\n",
    "assert test_labels.shape == (10000,)"
   ]
  },
  {
   "cell_type": "code",
   "execution_count": null,
   "metadata": {
    "id": "mO3WDNj6r714"
   },
   "outputs": [],
   "source": [
    "# Mostrar la cantidad de datos en train\n",
    "data_shape = [('train_images', len(train_images), train_images.shape),\n",
    "              ('train_labels', len(train_labels), train_labels.shape),\n",
    "              ('test_images', len(test_images), test_images.shape),\n",
    "              ('test_labels', len(test_labels), test_labels.shape)]\n",
    "pd.DataFrame(data_shape, columns=['Dataset Name', 'Cantidad de datos', 'Shape'])"
   ]
  },
  {
   "cell_type": "code",
   "execution_count": null,
   "metadata": {
    "id": "-vs6fRJlsBR-"
   },
   "outputs": [],
   "source": [
    "train_labels"
   ]
  },
  {
   "cell_type": "markdown",
   "metadata": {
    "id": "bvpNNZbQS516"
   },
   "source": [
    "## Estructura y tipo de las imágenes"
   ]
  },
  {
   "cell_type": "code",
   "execution_count": null,
   "metadata": {
    "id": "l9gEKwQPxjWJ"
   },
   "outputs": [],
   "source": [
    "def print_dataset_images(dimensions, images, labels, isColorbar=False):\n",
    "  plt.figure(figsize=(10,10))\n",
    "  for i in range(dimensions*dimensions):\n",
    "      plt.subplot(dimensions,dimensions,i+1)\n",
    "      plt.xticks([])\n",
    "      plt.yticks([])\n",
    "      plt.imshow(images[i])\n",
    "      if isColorbar: plt.colorbar()\n",
    "      plt.grid(False)\n",
    "      plt.title(\"La clase es: {} \\n {}\".format(labels[i], CLOTHES[labels[i]]))\n",
    "  plt.subplots_adjust(top=1.1, right=1)\n",
    "  plt.show()"
   ]
  },
  {
   "cell_type": "code",
   "execution_count": null,
   "metadata": {
    "id": "CLDnL6UkwInl"
   },
   "outputs": [],
   "source": [
    "print_dataset_images(5, train_images, train_labels, True)"
   ]
  },
  {
   "cell_type": "code",
   "execution_count": null,
   "metadata": {
    "id": "P8WsfPrYJjal"
   },
   "outputs": [],
   "source": [
    "print_dataset_images(5, train_images, train_labels)"
   ]
  },
  {
   "cell_type": "markdown",
   "metadata": {
    "id": "4IutiThqvswn"
   },
   "source": [
    "## Distribución de la variable a predecir\n",
    "\n",
    "Se puede observar que en ambos datasets, tanto train como test, los datos se encuentran completamente balanceados"
   ]
  },
  {
   "cell_type": "code",
   "execution_count": null,
   "metadata": {},
   "outputs": [],
   "source": [
    "lista_train = list(range(10))\n",
    "for label in train_labels: \n",
    "    lista_train[label] += 1 \n",
    "plt.title(\"distibucion prendas en train\")\n",
    "plt.pie(lista_train, labels=CLOTHES, autopct=\"%0.1f %%\");"
   ]
  },
  {
   "cell_type": "code",
   "execution_count": null,
   "metadata": {},
   "outputs": [],
   "source": [
    "lista_test = list(range(10))\n",
    "for label in test_labels: \n",
    "    lista_test[label] += 1 \n",
    "plt.title(\"distibucion prendas en test\")\n",
    "plt.pie(lista_test, labels=CLOTHES, autopct=\"%0.1f %%\");"
   ]
  },
  {
   "cell_type": "markdown",
   "metadata": {
    "id": "sBqmR92CwuZB"
   },
   "source": [
    "# Preprocesado del dataset a trabajar"
   ]
  },
  {
   "cell_type": "code",
   "execution_count": null,
   "metadata": {
    "id": "1JKQ4cvsw0U3"
   },
   "outputs": [],
   "source": [
    "train_images = train_images / 255.0\n",
    "test_images = test_images / 255.0"
   ]
  },
  {
   "cell_type": "code",
   "execution_count": null,
   "metadata": {
    "id": "24ndyXihw64X"
   },
   "outputs": [],
   "source": [
    "print_dataset_images(5, train_images, train_labels, True)"
   ]
  },
  {
   "cell_type": "markdown",
   "metadata": {
    "id": "w9WPW5sOS_1K"
   },
   "source": [
    "# Acá empieza la magiaa "
   ]
  }
 ],
 "metadata": {
  "colab": {
   "authorship_tag": "ABX9TyMxYAaYWLUu6RzpzhNvKvx2",
   "collapsed_sections": [],
   "name": "tp3_fashion_mnist.ipynb",
   "private_outputs": true,
   "provenance": [],
   "toc_visible": true
  },
  "kernelspec": {
   "display_name": "Python 3 (ipykernel)",
   "language": "python",
   "name": "python3"
  },
  "language_info": {
   "codemirror_mode": {
    "name": "ipython",
    "version": 3
   },
   "file_extension": ".py",
   "mimetype": "text/x-python",
   "name": "python",
   "nbconvert_exporter": "python",
   "pygments_lexer": "ipython3",
   "version": "3.10.4"
  }
 },
 "nbformat": 4,
 "nbformat_minor": 1
}
