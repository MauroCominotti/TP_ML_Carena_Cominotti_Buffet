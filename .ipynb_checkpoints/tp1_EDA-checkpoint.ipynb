{
 "cells": [
  {
   "cell_type": "markdown",
   "id": "i-UBsJUTE13r",
   "metadata": {
    "id": "i-UBsJUTE13r"
   },
   "source": [
    "# Trabajo Práctico 1: Análisis Exploratorio de Datos\n",
    "## Fecha y hora de entrega máxima:\n",
    "11/04/2022 18:00\n",
    "\n",
    "## Acerca del Dataset \"Datos de clientes del banco\"\n",
    "Los datos están relacionados con campañas de marketing directo (llamadas telefónicas) de una institución bancaria portuguesa. El objetivo de la clasificación es predecir si el cliente suscribirá un depósito a plazo."
   ]
  },
  {
   "cell_type": "markdown",
   "id": "49c85bb6",
   "metadata": {
    "id": "49c85bb6"
   },
   "source": [
    "## 1. Listado de variables y selección\n",
    "- Por cada variable explicar en una oración el contenido de dicha variable y definir si será utilizada como variable de entrada, de salida, o no será utilizada.\n",
    "- Para la variable de salida especificar los valores posibles que puede tener.\n",
    "- Por cada variable que no se vaya a utilizar, explicar brevemente el motivo.\n",
    "\n",
    "<br />\n",
    "\n",
    "|Variable|Descripción|Entrada|Salida|Sin utilización|\n",
    "|--|---|---|--|--|\n",
    "|age|Edad del cliente|X  |||\n",
    "|job|Tipo de trabajo del cliente|X  |||\n",
    "|marital|Estado civil del cliente|X  |||\n",
    "|education|Tipo de educación del cliente|X  |||\n",
    "|default|Indica si el cliente tiene crédito en mora|X  |||\n",
    "|balance|Balance actual del cliente|X  |||\n",
    "|housing|Indica si el cliente tiene un prestamo de vivienda|X  |||\n",
    "|loan|Indica si el cliente tiene un prestamo personal|X  |||\n",
    "|contact|Tipo de comunicación con el cliente|X  |||\n",
    "|day|Día de la semana en que hubo contacto con el cliente por última vez |X  |||\n",
    "|month|Mes del año en que hubo contacto con el cliente por últtima vez|X  |||\n",
    "|duration|Duración en segundos del último contacto con el cliente|X  |||\n",
    "|campaign|Número de contactos realizados al cliente durante la campaña|X  |||\n",
    "|pdays|Número de días transcurridos desde la última vez que se contacto al cliente desde una campaña anterior|X  |||\n",
    "|previous|Número de contactos realizados al cliente antes de la campaña actual|X  |||\n",
    "|poutcome|Resultado de la campaña de marketing anterior|X  |||\n",
    "|term_deposit|Indica si el cliente ha suscrito un depósito a término||X||\n",
    "\n",
    "<br />\n",
    "\n",
    "En cuanto a la variable de salida \"term_deposit\", los valores posibles que puede tener son un string binario \"yes\" o \"no\". No posee otro valor que éstos dos, con lo cual los datos de la variable de salida son utilizables sin necesidad de limpiarlos.\n",
    "\n",
    "<br />\n",
    "\n",
    "En cuanto a las variables que no se utilizarán, no elegimos ninguna, ya que consideramos que TODAS las variables de entrada posiblemente tengan una correlación con la variable de salida \"term_deposit\"."
   ]
  },
  {
   "cell_type": "code",
   "execution_count": null,
   "id": "UhFTkRRiD6rA",
   "metadata": {
    "id": "UhFTkRRiD6rA"
   },
   "outputs": [],
   "source": [
    "# Importamos las dependencias necesarias.\n",
    "import pandas as pd\n",
    "import numpy as np\n",
    "import matplotlib\n",
    "import matplotlib.pyplot as plt\n",
    "import seaborn as sns\n",
    "import plotly\n",
    "import keras\n",
    "import tensorflow as tf\n",
    "import h5py\n",
    "import PIL\n",
    "import sklearn_pandas\n",
    "import plotly.express as px"
   ]
  },
  {
   "cell_type": "code",
   "execution_count": null,
   "id": "5cn2nZPfOUXM",
   "metadata": {
    "id": "5cn2nZPfOUXM"
   },
   "outputs": [],
   "source": [
    "# If we import the dataset from the csv file we see we have values with the value \"unknown\"\n",
    "ds = pd.read_csv(\"BankCustomerData.csv\")\n",
    "\n",
    "# Return the first five rows of the DataFrame\n",
    "ds.head()"
   ]
  },
  {
   "cell_type": "code",
   "execution_count": null,
   "id": "1CPQSLIKPlYB",
   "metadata": {
    "id": "1CPQSLIKPlYB"
   },
   "outputs": [],
   "source": [
    "# To replace these values with NaN, we must provide a list with all missing value formats\n",
    "missing_value_formats = [\"unknown\", \"n.a.\",\"?\",\"NA\",\"n/a\", \"na\", \"--\"]\n",
    "ds = pd.read_csv(\"BankCustomerData.csv\", na_values = missing_value_formats)\n",
    "\n",
    "# Display the firsts and lasts lines of the file\n",
    "ds"
   ]
  },
  {
   "cell_type": "code",
   "execution_count": null,
   "id": "O8aFul9jP4dM",
   "metadata": {
    "id": "O8aFul9jP4dM"
   },
   "outputs": [],
   "source": [
    "# Get the length of the file\n",
    "len(ds)"
   ]
  },
  {
   "cell_type": "code",
   "execution_count": null,
   "id": "FBecxiC5bxK5",
   "metadata": {
    "id": "FBecxiC5bxK5"
   },
   "outputs": [],
   "source": [
    "# See dataset dimensions\n",
    "ds.shape"
   ]
  },
  {
   "cell_type": "code",
   "execution_count": null,
   "id": "M_cTxxmTP15m",
   "metadata": {
    "collapsed": true,
    "id": "M_cTxxmTP15m"
   },
   "outputs": [],
   "source": [
    "# Return the columns structure of the DataFrame\n",
    "ds.dtypes"
   ]
  },
  {
   "cell_type": "code",
   "execution_count": null,
   "id": "jUrsKs1MbLJU",
   "metadata": {
    "id": "jUrsKs1MbLJU"
   },
   "outputs": [],
   "source": [
    "# Return the NULL quantity values in each column\n",
    "ds.isnull().sum()"
   ]
  },
  {
   "cell_type": "markdown",
   "id": "k95vFK-cYiIe",
   "metadata": {
    "id": "k95vFK-cYiIe"
   },
   "source": [
    "## 2. Análisis detallado de un conjunto de variables\n",
    "### 2.1 Para la variable de salida, explicar y graficar su balanceo y qué consecuencias va a tener eso a la hora de entrenar y medir el rendimiento de distintos modelos."
   ]
  },
  {
   "cell_type": "code",
   "execution_count": null,
   "id": "viUHd89FV-EW",
   "metadata": {
    "id": "viUHd89FV-EW"
   },
   "outputs": [],
   "source": [
    "# See percentage of yes and no in term_deposit as Bar Plot\n",
    "ax = ds.term_deposit.value_counts().plot.bar()\n",
    "\n",
    "for p in ax.patches:\n",
    "    ax.annotate(str(p.get_height()), (p.get_x() * 1, p.get_height() * 1))"
   ]
  },
  {
   "cell_type": "code",
   "execution_count": null,
   "id": "I_3eiFQccA6i",
   "metadata": {
    "id": "I_3eiFQccA6i"
   },
   "outputs": [],
   "source": [
    "# See percentage of yes and no in term_deposit as Pie Plot\n",
    "ds.term_deposit.value_counts().plot.pie()"
   ]
  },
  {
   "cell_type": "code",
   "execution_count": null,
   "id": "6lsM3aN6Y7A3",
   "metadata": {
    "id": "6lsM3aN6Y7A3"
   },
   "outputs": [],
   "source": [
    "# Does not work with .value_counts(), so instead use len()\n",
    "yes_counts = len(ds[ds.term_deposit == \"yes\"].term_deposit)\n",
    "no_counts = len(ds[ds.term_deposit == \"no\"].term_deposit)\n",
    "total_counts = len(ds)\n",
    "\n",
    "print(\"Counts\")\n",
    "print(\"Yes counts: \", yes_counts)\n",
    "print(\"No counts: \", no_counts)\n",
    "print(\"Total counts: \", (yes_counts + no_counts))\n",
    "print(\"\")\n",
    "print(\"Percentages\")\n",
    "print(\"Yes percentage: \", (yes_counts / total_counts) * 100)\n",
    "print(\"No percentage: \", (no_counts / total_counts) * 100)"
   ]
  },
  {
   "cell_type": "markdown",
   "id": "pYG_PF47ZQNX",
   "metadata": {
    "id": "pYG_PF47ZQNX"
   },
   "source": [
    "Como se puede observar en el gráfico de barras y en el de torta, existe un claro desequilibrio en los valores de la variable de salida \"term_deposit\", ya que el 90.5% de los clientes decidió no suscribirse a un depósito a plazo, mientras que un 9.5% sí lo hizo.\n",
    "\n",
    "Debido a la gran cantidad de valores 'no', se podría llegar a afectar el entrenamiento y la medición del rendimiento del modelo, ya que podría aprender a predecir que en la mayoría de los casos, los clientes no se suscribirán a un depósito a plazo para evitar fallas."
   ]
  },
  {
   "cell_type": "markdown",
   "id": "GvLaaflLasOB",
   "metadata": {
    "id": "GvLaaflLasOB"
   },
   "source": [
    "### 2.2 Para 5 variables de entrada (elegidas o no, pero incluyendo al menos 3 elegidas) graficar y explicar cómo se comportan y cómo afectan a la variable de salida."
   ]
  },
  {
   "cell_type": "markdown",
   "id": "P7oE52hscII9",
   "metadata": {
    "id": "P7oE52hscII9"
   },
   "source": [
    "Para las variables de entrada, elegimos las siguientes 5 columnas:\n",
    "- age\n",
    "- balance\n",
    "- loan\n",
    "- housing\n",
    "- contact"
   ]
  },
  {
   "cell_type": "markdown",
   "id": "z-7-zuXOceBH",
   "metadata": {
    "id": "z-7-zuXOceBH"
   },
   "source": [
    "#### Variable age:"
   ]
  },
  {
   "cell_type": "code",
   "execution_count": null,
   "id": "ARr117_MdRxL",
   "metadata": {
    "id": "ARr117_MdRxL"
   },
   "outputs": [],
   "source": [
    "px.histogram(ds, x='age', color='term_deposit', barmode='group')"
   ]
  },
  {
   "cell_type": "code",
   "execution_count": null,
   "id": "1HsLb61Eifyo",
   "metadata": {
    "id": "1HsLb61Eifyo"
   },
   "outputs": [],
   "source": [
    "ds.groupby(\"term_deposit\").aggregate({\"age\": \"mean\"})"
   ]
  },
  {
   "cell_type": "code",
   "execution_count": null,
   "id": "u7cdPz0hjpOR",
   "metadata": {
    "id": "u7cdPz0hjpOR"
   },
   "outputs": [],
   "source": [
    "ds.groupby(\"term_deposit\").aggregate({\"age\": \"max\"})"
   ]
  },
  {
   "cell_type": "code",
   "execution_count": null,
   "id": "yun1g310jtYh",
   "metadata": {
    "id": "yun1g310jtYh"
   },
   "outputs": [],
   "source": [
    "ds.groupby(\"term_deposit\").aggregate({\"age\": \"min\"})"
   ]
  },
  {
   "cell_type": "markdown",
   "id": "0Ss7bRragDVG",
   "metadata": {
    "id": "0Ss7bRragDVG"
   },
   "source": [
    "En cuanto a la edad del cliente en relación a la variable term_deposit, podemos observar considerando el histograma, que esta variable de entrada guarda relación con la variable de salida term_deposit debido a que  se observa una tendencia alcista hasta la edad de 32 años, para luego ir decreciendo a lo largo del gráfico. \n",
    "\n",
    "Esto significa que el lograr que un cliente decida suscribirse o no a un depósito a plazo dependerá en gran medida de la edad de la persona.\n",
    "\n",
    "\n",
    "Ésto podría suceder a raíz de que las personas que poseen cerca de 30 años poseen una capacidad de ahorro mayor, con lo cual la gran mayoría de las campañas para que un cliente decida suscribirse o no a un depósito a plazo están dirigidas hacia personas con una franza de edad de entre 30 y 50 años aproximadamente, con un promedio de edad de 40 años tanto para los \"yes\" como para los \"no\""
   ]
  },
  {
   "cell_type": "markdown",
   "id": "7011a0d9",
   "metadata": {},
   "source": [
    "4 - Duration"
   ]
  },
  {
   "cell_type": "code",
   "execution_count": null,
   "id": "d1ae9cfc",
   "metadata": {},
   "outputs": [],
   "source": [
    "duration_no_pago_a_termino = ds[ds.term_deposit == \"no\"].duration.sum() / len(ds[ds.term_deposit == \"no\"].term_deposit)\n",
    "\n",
    "duration_pago_a_termino = ds[ds.term_deposit == \"yes\"].duration.sum() / len(ds[ds.term_deposit == \"yes\"].term_deposit)\n",
    "\n",
    "print('Duracion promedio de no pago a termino: ', duration_no_pago_a_termino)\n",
    "print('Duracion promedio de pago a termino: ',  duration_pago_a_termino)"
   ]
  },
  {
   "cell_type": "markdown",
   "id": "e4d3738f",
   "metadata": {},
   "source": [
    "Los valores dicen que cuando pagan a termino en promedio el contacto dura mas del doble de cuando no pagan."
   ]
  },
  {
   "cell_type": "markdown",
   "id": "d63d9c8b",
   "metadata": {},
   "source": [
    "5 - Job"
   ]
  },
  {
   "cell_type": "code",
   "execution_count": null,
   "id": "e0a49a92",
   "metadata": {},
   "outputs": [],
   "source": [
    "px.histogram(ds, x='job', color='term_deposit', barmode='group')"
   ]
  },
  {
   "cell_type": "code",
   "execution_count": null,
   "id": "2c41b5b4",
   "metadata": {},
   "outputs": [],
   "source": [
    "f,ax=plt.subplots(1,3,figsize=(16,6))\n",
    "\n",
    "ax[0].set_title('Numero de veces que aparece cada valor')\n",
    "valores_distintos = ds.job.value_counts()\n",
    "valores_distintos.plot.bar(ax=ax[0])\n",
    "\n",
    "ax[1].set_title('Porcentaje de veces que no paga a termino')\n",
    "no_pago_a_termino = ds[ds.term_deposit == 'no'].job.value_counts() / ds.job.value_counts()\n",
    "no_pago_a_termino.plot.bar(ax=ax[1])\n",
    "\n",
    "ax[2].set_title('Porcentaje de veces que paga a termino')\n",
    "pago_a_termino = ds[ds.term_deposit == 'yes'].job.value_counts() / ds.job.value_counts()\n",
    "pago_a_termino.plot.bar(ax=ax[2])"
   ]
  },
  {
   "cell_type": "markdown",
   "id": "43503710",
   "metadata": {},
   "source": [
    "De la variable Job podemos observar segun el histograma que al igual del resto de las varibles presenta un gran desbalanceo. Mirando los datos vemos que hay valores que se presentan mayor cantidad de veces en la muestra, lo cual puede hacer sobre entrenar al modelo o restarle importancia algun valor que no aparece tanto.\n",
    "\n",
    "En los porcentajes, el valo 'student' es el que mas veces paga a termino seguido por 'retired' y 'unemployed'. Las primera dos tienen sentidos, ya que tanto un estudiante como una persona retirada tienen, en teoria, tiempo libre ya que no tienen responsabilidades laborales. En el caso del desempleado, tambien tiene sentido viendolo por ese lado, pero pierde un poco por el hecho de que tal vez no tenga dinero para pagar, aunque con esta variable sola no podemos verificar eso.\n",
    "\n",
    "Por el lado de los que no pagan a termino, aparecen 'blue-collar', 'entrepreneur', 'housemaid', 'services'. Trabajos de diferentes indole que por algun motivo no pagan a tiempo."
   ]
  },
  {
   "cell_type": "markdown",
   "id": "93XTZXHFb8dr",
   "metadata": {
    "id": "93XTZXHFb8dr"
   },
   "source": [
    "### 2.3 Para cada una de las variables de entrada elegidas, explicar si se debería realizar o no alguna transformación para poder utilizarla como entrada de un modelo y por qué."
   ]
  },
  {
   "cell_type": "markdown",
   "id": "49osd1g1b8YS",
   "metadata": {
    "id": "49osd1g1b8YS"
   },
   "source": [
    "### 2.4 Analizar si las variables de entrada seleccionadas presentan valores nulos y/o extremos. En caso de encontrar dichas condiciones, indicar qué tratamiento se podría darle a las mismas y por qué."
   ]
  },
  {
   "cell_type": "markdown",
   "id": "taBEU3YGb8L3",
   "metadata": {
    "id": "taBEU3YGb8L3"
   },
   "source": [
    "### 2.5 Verificar si existen variables altamente correlacionadas con la variable \"target\". En dicho caso, explicar por qué considera que esto pasa."
   ]
  }
 ],
 "metadata": {
  "accelerator": "GPU",
  "colab": {
   "collapsed_sections": [],
   "name": "Copia de tp1_EDA.ipynb",
   "private_outputs": true,
   "provenance": []
  },
  "kernelspec": {
   "display_name": "Python 3",
   "language": "python",
   "name": "python3"
  },
  "language_info": {
   "codemirror_mode": {
    "name": "ipython",
    "version": 3
   },
   "file_extension": ".py",
   "mimetype": "text/x-python",
   "name": "python",
   "nbconvert_exporter": "python",
   "pygments_lexer": "ipython3",
   "version": "3.6.9"
  }
 },
 "nbformat": 4,
 "nbformat_minor": 5
}
