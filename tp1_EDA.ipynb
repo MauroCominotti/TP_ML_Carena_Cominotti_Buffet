{
  "cells": [
    {
      "cell_type": "markdown",
      "id": "i-UBsJUTE13r",
      "metadata": {
        "id": "i-UBsJUTE13r"
      },
      "source": [
        "# Trabajo Práctico 1: Análisis Exploratorio de Datos\n",
        "## Fecha y hora de entrega máxima:\n",
        "11/04/2022 18:00\n",
        "\n",
        "## Acerca del Dataset \"Datos de clientes del banco\"\n",
        "Los datos están relacionados con campañas de marketing directo (llamadas telefónicas) de una institución bancaria portuguesa. El objetivo de la clasificación es predecir si el cliente suscribirá un depósito a plazo."
      ]
    },
    {
      "cell_type": "markdown",
      "id": "49c85bb6",
      "metadata": {
        "id": "49c85bb6"
      },
      "source": [
        "## 1. Listado de variables y selección\n",
        "- Por cada variable explicar en una oración el contenido de dicha variable y definir si será utilizada como variable de entrada, de salida, o no será utilizada.\n",
        "- Para la variable de salida especificar los valores posibles que puede tener.\n",
        "- Por cada variable que no se vaya a utilizar, explicar brevemente el motivo.\n",
        "\n",
        "<br />\n",
        "\n",
        "|Variable|Descripción|Entrada|Salida|Sin utilización|\n",
        "|--|---|---|--|--|\n",
        "|age|Edad del cliente|X  |||\n",
        "|job|Tipo de trabajo del cliente|X  |||\n",
        "|marital|Estado civil del cliente|X  |||\n",
        "|education|Tipo de educación del cliente|X  |||\n",
        "|default|Indica si el cliente tiene crédito en mora|X  |||\n",
        "|balance|Balance actual del cliente|X  |||\n",
        "|housing|Indica si el cliente tiene un prestamo de vivienda|X  |||\n",
        "|loan|Indica si el cliente tiene un prestamo personal|X  |||\n",
        "|contact|Tipo de comunicación con el cliente|X  |||\n",
        "|day|Día de la semana en que hubo contacto con el cliente por última vez |X  |||\n",
        "|month|Mes del año en que hubo contacto con el cliente por últtima vez|X  |||\n",
        "|duration|Duración en segundos del último contacto con el cliente|X  |||\n",
        "|campaign|Número de contactos realizados al cliente durante la campaña|X  |||\n",
        "|pdays|Número de días transcurridos desde la última vez que se contacto al cliente desde una campaña anterior|X  |||\n",
        "|previous|Número de contactos realizados al cliente antes de la campaña actual|X  |||\n",
        "|poutcome|Resultado de la campaña de marketing anterior|X  |||\n",
        "|term_deposit|Indica si el cliente ha suscrito un depósito a término||X||\n",
        "\n",
        "<br />\n",
        "\n",
        "En cuanto a la variable de salida \"term_deposit\", los valores posibles que puede tener son un string binario \"yes\" o \"no\". No posee otro valor que éstos dos, con lo cual los datos de la variable de salida son utilizables sin necesidad de limpiarlos.\n",
        "\n",
        "<br />\n",
        "\n",
        "En cuanto a las variables que no se utilizarán, no elegimos ninguna, ya que consideramos que TODAS las variables de entrada posiblemente tengan una correlación con la variable de salida \"term_deposit\"."
      ]
    },
    {
      "cell_type": "code",
      "execution_count": null,
      "id": "UhFTkRRiD6rA",
      "metadata": {
        "id": "UhFTkRRiD6rA"
      },
      "outputs": [],
      "source": [
        "# Importamos las dependencias necesarias.\n",
        "import pandas as pd\n",
        "import numpy as np\n",
        "import matplotlib\n",
        "import matplotlib.pyplot as plt\n",
        "import seaborn as sns\n",
        "import plotly\n",
        "import keras\n",
        "import tensorflow as tf\n",
        "import h5py\n",
        "import PIL\n",
        "import sklearn_pandas\n",
        "import plotly.express as px"
      ]
    },
    {
      "cell_type": "code",
      "execution_count": null,
      "id": "5cn2nZPfOUXM",
      "metadata": {
        "id": "5cn2nZPfOUXM"
      },
      "outputs": [],
      "source": [
        "# If we import the dataset from the csv file we see we have values with the value \"unknown\"\n",
        "dataset_original = pd.read_csv(\"BankCustomerData.csv\")\n",
        "\n",
        "# We copy the dataset so we don't change directly the original dataset after working on it\n",
        "ds = dataset_original\n",
        "\n",
        "# Return the first five rows of the DataFrame\n",
        "ds.head()"
      ]
    },
    {
      "cell_type": "code",
      "execution_count": null,
      "id": "1CPQSLIKPlYB",
      "metadata": {
        "id": "1CPQSLIKPlYB"
      },
      "outputs": [],
      "source": [
        "# To replace these values with NaN, we must provide a list with all missing value formats\n",
        "missing_value_formats = [\"unknown\", \"n.a.\",\"?\",\"NA\",\"n/a\", \"na\", \"--\"]\n",
        "ds = pd.read_csv(\"BankCustomerData.csv\", na_values = missing_value_formats)\n",
        "\n",
        "# Display the firsts and lasts lines of the file\n",
        "ds"
      ]
    },
    {
      "cell_type": "code",
      "execution_count": null,
      "id": "O8aFul9jP4dM",
      "metadata": {
        "id": "O8aFul9jP4dM"
      },
      "outputs": [],
      "source": [
        "# Get the length of the file\n",
        "len(ds)"
      ]
    },
    {
      "cell_type": "code",
      "execution_count": null,
      "id": "FBecxiC5bxK5",
      "metadata": {
        "id": "FBecxiC5bxK5"
      },
      "outputs": [],
      "source": [
        "# See dataset dimensions\n",
        "ds.shape"
      ]
    },
    {
      "cell_type": "code",
      "source": [
        "# Show statistical data\n",
        "ds.describe()"
      ],
      "metadata": {
        "id": "edrBrgtQlCtu"
      },
      "id": "edrBrgtQlCtu",
      "execution_count": null,
      "outputs": []
    },
    {
      "cell_type": "code",
      "execution_count": null,
      "id": "M_cTxxmTP15m",
      "metadata": {
        "id": "M_cTxxmTP15m"
      },
      "outputs": [],
      "source": [
        "# Return the columns structure of the DataFrame\n",
        "ds.dtypes"
      ]
    },
    {
      "cell_type": "code",
      "execution_count": null,
      "id": "jUrsKs1MbLJU",
      "metadata": {
        "id": "jUrsKs1MbLJU"
      },
      "outputs": [],
      "source": [
        "# Return the NULL quantity values in each column\n",
        "ds.isnull().sum()"
      ]
    },
    {
      "cell_type": "markdown",
      "id": "k95vFK-cYiIe",
      "metadata": {
        "id": "k95vFK-cYiIe"
      },
      "source": [
        "## 2. Análisis detallado de un conjunto de variables"
      ]
    },
    {
      "cell_type": "markdown",
      "source": [
        "### 1. Para la variable de salida, explicar y graficar su balanceo y qué consecuencias va a tener eso a la hora de entrenar y medir el rendimiento de distintos modelos."
      ],
      "metadata": {
        "id": "iGJmkMfPjQ-p"
      },
      "id": "iGJmkMfPjQ-p"
    },
    {
      "cell_type": "code",
      "execution_count": null,
      "id": "viUHd89FV-EW",
      "metadata": {
        "id": "viUHd89FV-EW"
      },
      "outputs": [],
      "source": [
        "# See percentage of yes and no in term_deposit as Bar Plot\n",
        "ax = ds.term_deposit.value_counts().plot.bar(figsize=(5,5))\n",
        "\n",
        "ax.set_ylabel('Cantidad')\n",
        "ax.legend()\n",
        "ax.set_title('Cantidad de clientes que se suscribieron o no a un depósito a plazo')\n",
        "\n",
        "for p in ax.patches:\n",
        "    ax.annotate(str(p.get_height()), (p.get_x() * 1, p.get_height() * 1))"
      ]
    },
    {
      "cell_type": "code",
      "source": [
        "# Show the distribution of the output variable also in plotly!\n",
        "px.histogram(ds, x='term_deposit', title = 'Cantidad de clientes que se suscribieron o no a un depósito a plazo')"
      ],
      "metadata": {
        "id": "IMly2urbiWGx"
      },
      "id": "IMly2urbiWGx",
      "execution_count": null,
      "outputs": []
    },
    {
      "cell_type": "code",
      "execution_count": null,
      "id": "I_3eiFQccA6i",
      "metadata": {
        "id": "I_3eiFQccA6i"
      },
      "outputs": [],
      "source": [
        "# See percentage of yes and no in term_deposit as Pie Plot\n",
        "ds.term_deposit.value_counts().plot.pie(autopct='%1.0f%%', figsize=(5,5)).set_title('Cantidad de usuarios suscriptos o no a un depósito a plazo')"
      ]
    },
    {
      "cell_type": "code",
      "source": [
        "# See percentage of yes and no in term_deposit as Pie Plot also in Plotly!\n",
        "fig = px.pie(\n",
        "             values=ds.term_deposit.value_counts(), \n",
        "             names=['Yes', 'No'], \n",
        "             title='Cantidad de usuarios suscriptos o no a un depósito a plazo',\n",
        "             color_discrete_sequence=px.colors.sequential.RdBu)\n",
        "fig.show()"
      ],
      "metadata": {
        "id": "OyWIkrb8lo6h"
      },
      "id": "OyWIkrb8lo6h",
      "execution_count": null,
      "outputs": []
    },
    {
      "cell_type": "code",
      "execution_count": null,
      "id": "6lsM3aN6Y7A3",
      "metadata": {
        "id": "6lsM3aN6Y7A3"
      },
      "outputs": [],
      "source": [
        "yes_counts = ds[ds.term_deposit == \"yes\"].term_deposit.count()\n",
        "no_counts = ds[ds.term_deposit == \"no\"].term_deposit.count()\n",
        "# In the case of total_counts, it does not work with .value_counts(), so instead use len()\n",
        "total_counts = len(ds)\n",
        "\n",
        "data = [[yes_counts, \"{0: 5.2f} %\".format((yes_counts / total_counts) * 100)],\n",
        "[no_counts, \"{0: 5.2f} %\".format((no_counts / total_counts) * 100)],\n",
        "[total_counts, 100]]\n",
        "\n",
        "col_headers=[\"Quantity\", \"Percentage\"]\n",
        "row_headers=[\"yes\", \"no\", \"Total\"]\n",
        "\n",
        "print(pd.DataFrame(data, row_headers, col_headers))"
      ]
    },
    {
      "cell_type": "markdown",
      "id": "pYG_PF47ZQNX",
      "metadata": {
        "id": "pYG_PF47ZQNX"
      },
      "source": [
        "Como se puede observar en el gráfico de barras y en el de torta, existe un **claro desequilibrio** en los valores de la variable de salida \"term_deposit\", ya que el **90.5%** de los clientes decidió no suscribirse a un depósito a plazo, mientras que un **9.5%** sí lo hizo.\n",
        "\n",
        "Debido a la gran cantidad de valores 'no', se podría llegar a afectar el entrenamiento y la medición del rendimiento del modelo, ya que podría aprender a predecir que en la mayoría de los casos, los clientes no se suscribirán a un depósito a plazo para evitar fallas.\n",
        "\n",
        "Cabe destacar que la variable de salida no posee valores NaN, lo cual es bueno para la precisión del modelo."
      ]
    },
    {
      "cell_type": "markdown",
      "id": "GvLaaflLasOB",
      "metadata": {
        "id": "GvLaaflLasOB"
      },
      "source": [
        "### 2. Para 5 variables de entrada (elegidas o no, pero incluyendo al menos 3 elegidas) graficar y explicar cómo se comportan y cómo afectan a la variable de salida."
      ]
    },
    {
      "cell_type": "markdown",
      "id": "P7oE52hscII9",
      "metadata": {
        "id": "P7oE52hscII9"
      },
      "source": [
        "Para las variables de entrada, elegimos las siguientes 5 columnas:\n",
        "1. age\n",
        "2. duration\n",
        "3. job\n",
        "4. education\n",
        "5. housing y loan\n"
      ]
    },
    {
      "cell_type": "markdown",
      "id": "z-7-zuXOceBH",
      "metadata": {
        "id": "z-7-zuXOceBH"
      },
      "source": [
        "#### 1. Variable Age:"
      ]
    },
    {
      "cell_type": "code",
      "execution_count": null,
      "id": "bsS6oK-cYXim",
      "metadata": {
        "id": "bsS6oK-cYXim"
      },
      "outputs": [],
      "source": [
        "# Show the distribution of the age variable\n",
        "px.histogram(ds, x='age', title = 'Age Distribution')"
      ]
    },
    {
      "cell_type": "code",
      "execution_count": null,
      "id": "ARr117_MdRxL",
      "metadata": {
        "id": "ARr117_MdRxL"
      },
      "outputs": [],
      "source": [
        "# Show the relation of the output variable with the current variable being analized\n",
        "px.histogram(ds, x='age', color='term_deposit', barmode='group')"
      ]
    },
    {
      "cell_type": "code",
      "execution_count": null,
      "id": "1HsLb61Eifyo",
      "metadata": {
        "id": "1HsLb61Eifyo"
      },
      "outputs": [],
      "source": [
        "ds.groupby(\"term_deposit\").aggregate({\"age\": \"mean\"})"
      ]
    },
    {
      "cell_type": "code",
      "execution_count": null,
      "id": "u7cdPz0hjpOR",
      "metadata": {
        "id": "u7cdPz0hjpOR"
      },
      "outputs": [],
      "source": [
        "ds.groupby(\"term_deposit\").aggregate({\"age\": \"max\"})"
      ]
    },
    {
      "cell_type": "code",
      "execution_count": null,
      "id": "yun1g310jtYh",
      "metadata": {
        "id": "yun1g310jtYh"
      },
      "outputs": [],
      "source": [
        "ds.groupby(\"term_deposit\").aggregate({\"age\": \"min\"})"
      ]
    },
    {
      "cell_type": "markdown",
      "id": "0Ss7bRragDVG",
      "metadata": {
        "id": "0Ss7bRragDVG"
      },
      "source": [
        "En cuanto a la edad del cliente en relación a la variable term_deposit, podemos observar considerando el histograma, que esta variable de entrada guarda relación con la variable de salida term_deposit debido a que  se observa una tendencia alcista hasta la edad de 32 años, para luego ir decreciendo a lo largo del gráfico. \n",
        "\n",
        "Esto significa que el lograr que un cliente decida suscribirse o no a un depósito a plazo dependerá en gran medida de la edad de la persona.\n",
        "\n",
        "\n",
        "Ésto podría suceder a raíz de que las personas que poseen cerca de 30 años poseen una capacidad de ahorro mayor, con lo cual la gran mayoría de las campañas para que un cliente decida suscribirse o no a un depósito a plazo están dirigidas hacia personas con una franza de edad de entre 30 y 50 años aproximadamente, con un promedio de edad de 40 años tanto para los \"yes\" como para los \"no\""
      ]
    },
    {
      "cell_type": "markdown",
      "id": "7011a0d9",
      "metadata": {
        "id": "7011a0d9"
      },
      "source": [
        "#### 2. Variable Duration"
      ]
    },
    {
      "cell_type": "code",
      "execution_count": null,
      "id": "TLsjOLw-bi2E",
      "metadata": {
        "id": "TLsjOLw-bi2E"
      },
      "outputs": [],
      "source": [
        "# Show the distribution of the output variable\n",
        "px.histogram(ds, x='duration', title = 'duration Distribution')"
      ]
    },
    {
      "cell_type": "code",
      "execution_count": null,
      "id": "PV76MAodbuZg",
      "metadata": {
        "id": "PV76MAodbuZg"
      },
      "outputs": [],
      "source": [
        "# Show the relation of the output variable with the current variable being analized\n",
        "px.histogram(ds, x='duration', color='term_deposit', barmode='group')"
      ]
    },
    {
      "cell_type": "code",
      "execution_count": null,
      "id": "d1ae9cfc",
      "metadata": {
        "id": "d1ae9cfc"
      },
      "outputs": [],
      "source": [
        "duration_no_pago_a_termino = ds[ds.term_deposit == \"no\"].duration.sum() / len(ds[ds.term_deposit == \"no\"].term_deposit)\n",
        "duration_pago_a_termino = ds[ds.term_deposit == \"yes\"].duration.sum() / len(ds[ds.term_deposit == \"yes\"].term_deposit)\n",
        "\n",
        "print('Duracion promedio de no pago a termino: ', duration_no_pago_a_termino)\n",
        "print('Duracion promedio de pago a termino: ',  duration_pago_a_termino)"
      ]
    },
    {
      "cell_type": "code",
      "execution_count": null,
      "id": "PQIf-_azcn5T",
      "metadata": {
        "id": "PQIf-_azcn5T"
      },
      "outputs": [],
      "source": [
        "ds.groupby(\"term_deposit\").aggregate({\"duration\": \"min\"})"
      ]
    },
    {
      "cell_type": "code",
      "execution_count": null,
      "id": "TkEde-3mcOB4",
      "metadata": {
        "id": "TkEde-3mcOB4"
      },
      "outputs": [],
      "source": [
        "ds[ds.duration == 0]"
      ]
    },
    {
      "cell_type": "code",
      "execution_count": null,
      "id": "58NW1kEXcrQd",
      "metadata": {
        "id": "58NW1kEXcrQd"
      },
      "outputs": [],
      "source": [
        "ds.groupby(\"term_deposit\").aggregate({\"duration\": \"max\"})"
      ]
    },
    {
      "cell_type": "markdown",
      "id": "e4d3738f",
      "metadata": {
        "id": "e4d3738f"
      },
      "source": [
        "Los valores dicen que cuando se suscriben a un plazo a término, el contacto dura más del doble que cuando no se suscriben.\n",
        "\n",
        "Otra cosa que nos llamó la atención, es ver que como valores mínimos la variable duration presenta 0 minutos. Ésto quiere decir, que al llamar le cortaron inmediatamente, por lo que claramente, term_deposit será igual a cero.\n",
        "Es por ésto, que éste atributo afecta en gran medida a la variable de salida ya que, si la duración=0 entonces term_deposit='no' en todos los casos.\n",
        "\n",
        "Sin embargo, la duración no se conoce antes de realizar una llamada. Además, una vez finalizada la llamada, obviamente se conoce term_deposit. \n",
        "\n",
        "Por lo tanto, esta entrada sólo debería incluirse a efectos de evaluación comparativa y debería descartarse si la intención es tener un <b>MODELO DE PREDICCIÓN REALISTA.</b>"
      ]
    },
    {
      "cell_type": "markdown",
      "id": "d63d9c8b",
      "metadata": {
        "id": "d63d9c8b"
      },
      "source": [
        "#### 3. Variable Job"
      ]
    },
    {
      "cell_type": "code",
      "execution_count": null,
      "id": "e0a49a92",
      "metadata": {
        "id": "e0a49a92"
      },
      "outputs": [],
      "source": [
        "px.histogram(ds, x='job', color='term_deposit', barmode='group')"
      ]
    },
    {
      "cell_type": "code",
      "execution_count": null,
      "id": "2c41b5b4",
      "metadata": {
        "id": "2c41b5b4"
      },
      "outputs": [],
      "source": [
        "f,ax=plt.subplots(1,3,figsize=(16,6))\n",
        "\n",
        "ax[0].set_title('Numero de veces que aparece cada valor')\n",
        "valores_distintos = ds.job.value_counts()\n",
        "valores_distintos.sort_values().plot.bar(ax=ax[0])\n",
        "\n",
        "ax[1].set_title('% de veces que NO se suscribio a un DP')\n",
        "no_pago_a_termino = ds[ds.term_deposit == 'no'].job.value_counts() / ds.job.value_counts()\n",
        "no_pago_a_termino.sort_values().plot.bar(ax=ax[1])\n",
        "\n",
        "ax[2].set_title('% de veces que se suscribio a un DP')\n",
        "pago_a_termino = ds[ds.term_deposit == 'yes'].job.value_counts() / ds.job.value_counts()\n",
        "pago_a_termino.sort_values().plot.bar(ax=ax[2])"
      ]
    },
    {
      "cell_type": "markdown",
      "id": "43503710",
      "metadata": {
        "id": "43503710"
      },
      "source": [
        "De la variable Job podemos observar segun el histograma que al igual del resto de las varibles presenta un gran desbalanceo. Mirando los datos vemos que hay valores que se presentan mayor cantidad de veces en la muestra, lo cual puede hacer sobre entrenar al modelo o restarle importancia algun valor que no aparece tanto.\n",
        "\n",
        "En los porcentajes, el valor 'student' es el que mas veces se suscribe a un depósito a plazo, seguido por 'retired' y 'unemployed'. Los primeros dos tienen sentido, ya que tanto un estudiante como una persona retirada tienen, en teoria, dinero ahorrado ya que no tienen responsabilidades laborales. En el caso del desempleado, también tiene sentido viendolo por ese lado, ya que está buscando trabajo y debe cuidar los ahorros generados para que no se deprecien.\n",
        "\n",
        "Por el lado de los que no se suscriben a un depósito a plazo, aparece 'blue-collar', 'entrepreneur', 'housemaid', y 'services'. Trabajos de diferente índole que tal vez por tener demasiados gastos no tienen capacidad de ahorro, por lo cual necesitan el dinero para el dí a día, y por eso no se suscriben.\n",
        "\n",
        "Otro análisis importante es que la categoría 'blue-collar', la cual es la primera en cuanto a cantidad de apariciones, es la úlitma en cuanto a porcentaje de veces que paga a término.\n",
        "Sin embargo, la segunda categoría que aparece en cuanto a cantidad de apariciones llamada 'management', es la cuarta en porcentaje de veces que paga a término."
      ]
    },
    {
      "cell_type": "markdown",
      "id": "51b1cad4",
      "metadata": {
        "id": "51b1cad4"
      },
      "source": [
        "#### 4. Variable Education:"
      ]
    },
    {
      "cell_type": "code",
      "execution_count": null,
      "id": "b8815267",
      "metadata": {
        "id": "b8815267"
      },
      "outputs": [],
      "source": [
        "sns.countplot(x='education',hue='term_deposit',data=ds)\n",
        "plt.xlabel('education')\n",
        "plt.title('Distribucion de education por term_deposit')"
      ]
    },
    {
      "cell_type": "code",
      "execution_count": null,
      "id": "a8c39414",
      "metadata": {
        "id": "a8c39414"
      },
      "outputs": [],
      "source": [
        "fig, axes = plt.subplots(nrows=1, ncols= 3, figsize=(16,6))\n",
        "\n",
        "ds_cleaned = ds[ds['education'].notna()]\n",
        "\n",
        "for c, i in zip(np.sort(ds_cleaned.education.unique().astype('str')), range(3)):\n",
        "    ds_cleaned[ds_cleaned.education == c].term_deposit.value_counts().sort_index().plot.pie(autopct='%1.0f%%', ax=axes[i])\n",
        "    axes[i].set_title(c)"
      ]
    },
    {
      "cell_type": "markdown",
      "id": "611188b3",
      "metadata": {
        "id": "611188b3"
      },
      "source": [
        "Se puede observar una tendencia alsista en el porcentaje de clientes que se suscriben a un plazo fijo cuando subimos el nivel de educación.\n",
        "Es decir, los clientes que tiene mayores niveles de educación, tienden a tener un porcentaje de suscripción más alto que los que poseen bajo nivel de educación.\n",
        "\n",
        "Por tal motivo podemos decir que 'education' se trata de una variable importante para decidir si un cliente hará una suscripción ."
      ]
    },
    {
      "cell_type": "markdown",
      "id": "c3feb774",
      "metadata": {
        "id": "c3feb774"
      },
      "source": [
        "#### 5. Variable Housing y Loan:"
      ]
    },
    {
      "cell_type": "code",
      "execution_count": null,
      "id": "40701c04",
      "metadata": {
        "id": "40701c04"
      },
      "outputs": [],
      "source": [
        "plt.figure(figsize=[15,15])\n",
        "\n",
        "plt.subplot(221)\n",
        "sns.countplot(x='housing',hue='term_deposit',data=ds)\n",
        "plt.xlabel('housing')\n",
        "plt.title('Distribucion de housing por term_deposit')\n",
        "\n",
        "plt.subplot(222)\n",
        "sns.countplot(x='loan',hue='term_deposit',data=ds)\n",
        "plt.xlabel('loan')\n",
        "plt.title('Distribucion de loan por term_deposit')"
      ]
    },
    {
      "cell_type": "markdown",
      "id": "00df7eff",
      "metadata": {
        "id": "00df7eff"
      },
      "source": [
        "Analizando los gráficos de housing y loan, podemos deducir que tener un préstamo de vivienda o personal no afecta, por si mismo, si un cliente se suscribirá o no.\n",
        "\n",
        "Por lo que en principio, ambas variables no se categorizarían como una variable importante para predecir la variable target."
      ]
    },
    {
      "cell_type": "markdown",
      "id": "93XTZXHFb8dr",
      "metadata": {
        "id": "93XTZXHFb8dr"
      },
      "source": [
        "### 3. Para cada una de las variables de entrada elegidas, explicar si se debería realizar o no alguna transformación para poder utilizarla como entrada de un modelo y por qué.\n"
      ]
    },
    {
      "cell_type": "markdown",
      "id": "1b4ae0b2",
      "metadata": {
        "id": "1b4ae0b2"
      },
      "source": [
        "<b>Método: OneHotEncoder\n",
        "\n",
        "Variables afectadas: job, marital, education, default, housing, loan, contact, month, poutcome, term_deposit</b>\n",
        "\n",
        "Justificación: Permitirá transformar las variables categóricas mencionadas en numéricas, agregando una nueva columna por valor de categoría de cada variable.\n",
        "    \n",
        "<b>Método: Scalling\n",
        " \n",
        "Variables afectadas: balance, duration</b>\n",
        "    \n",
        "Justificación: Ambas variables numéricas se encuentran en rangos muy diferentes al resto, es por esto que las escalaremos a rangos similares sin alterar su distribución. Esto puede ayudar a algunos modelos a converger más rápido y evitar que sufran por valores que dominen las operaciones por estar en rangos más grandes."
      ]
    },
    {
      "cell_type": "markdown",
      "id": "49osd1g1b8YS",
      "metadata": {
        "id": "49osd1g1b8YS"
      },
      "source": [
        "### 4. Analizar si las variables de entrada seleccionadas presentan valores nulos y/o extremos. En caso de encontrar dichas condiciones, indicar qué tratamiento se podría darle a las mismas y por qué.\n"
      ]
    },
    {
      "cell_type": "markdown",
      "source": [
        "#### 1. Chequear cantidad de valores nulos:"
      ],
      "metadata": {
        "id": "lAMsZvnt3JU9"
      },
      "id": "lAMsZvnt3JU9"
    },
    {
      "cell_type": "code",
      "source": [
        "# Check the quantity of NULLs in each column \n",
        "ds.isnull().sum()"
      ],
      "metadata": {
        "id": "BEW5IgBg98RG"
      },
      "id": "BEW5IgBg98RG",
      "execution_count": null,
      "outputs": []
    },
    {
      "cell_type": "code",
      "source": [
        "# Check the quantity of NOT NULLs values in each column \n",
        "ds.info()"
      ],
      "metadata": {
        "id": "AMTx2mJODQfw"
      },
      "id": "AMTx2mJODQfw",
      "execution_count": null,
      "outputs": []
    },
    {
      "cell_type": "markdown",
      "source": [
        "Como podemos ver, solo 4 columnas (job, education, contact and poutcome) presentan valores NaN.\n",
        "Si comparamos en porcentaje cuánta cantidad en dichas columnas representan los valores NULL tenemos:"
      ],
      "metadata": {
        "id": "0-V83-ho-FXg"
      },
      "id": "0-V83-ho-FXg"
    },
    {
      "cell_type": "code",
      "source": [
        "index = ['job', 'education', 'contact', 'poutcome']\n",
        "df = pd.DataFrame({'NaN values': ds.isnull().sum(),\n",
        "                   'All values': ds.count()}, index=index)\n",
        "ax = df.plot.bar(rot=0, figsize=(20,10))\n",
        "\n",
        "for p in ax.patches:\n",
        "    ax.annotate(str(p.get_height()), (p.get_x() * 1, p.get_height() * 1))"
      ],
      "metadata": {
        "id": "rAr737rz-FKn"
      },
      "id": "rAr737rz-FKn",
      "execution_count": null,
      "outputs": []
    },
    {
      "cell_type": "code",
      "source": [
        "nulls_job = ds.job.isnull().sum()\n",
        "not_null_jobs = ds.job.count()\n",
        "total_jobs = nulls_job + not_null_jobs\n",
        "\n",
        "nulls_education = ds.education.isnull().sum()\n",
        "not_null_education = ds.education.count()\n",
        "total_education = nulls_education + not_null_education\n",
        "\n",
        "nulls_contact = ds.contact.isnull().sum()\n",
        "not_null_contact = ds.contact.count()\n",
        "total_contact = nulls_contact + not_null_contact\n",
        "\n",
        "nulls_poutcome = ds.poutcome.isnull().sum()\n",
        "not_null_poutcome = ds.poutcome.count()\n",
        "total_poutcome = nulls_poutcome + not_null_poutcome\n",
        "\n",
        "data = [[nulls_job, not_null_jobs, total_jobs, \"{0: 5.2f} %\".format(((nulls_job / total_jobs)*100))],\n",
        "[nulls_education, not_null_education, total_education, \"{0: 5.2f} %\".format(((nulls_education / total_education)*100))],\n",
        "[nulls_contact, not_null_contact, total_contact, \"{0: 5.2f} %\".format(((nulls_contact / total_contact)*100))],\n",
        "[nulls_poutcome, not_null_poutcome, total_poutcome, \"{0: 5.2f} %\".format(((nulls_poutcome / total_poutcome)*100))]]\n",
        "\n",
        "col_headers=[\"NaN Quantity\", \"Not NaN Quantity\", \"Total Quantity\", \"Percentage of NaN\"]\n",
        "row_headers=[\"job\", \"education\", \"contact\", \"poutcome\"]\n",
        "\n",
        "print(pd.DataFrame(data, row_headers, col_headers))"
      ],
      "metadata": {
        "id": "bgBggt7-HlMT"
      },
      "id": "bgBggt7-HlMT",
      "execution_count": null,
      "outputs": []
    },
    {
      "cell_type": "markdown",
      "source": [
        "#### 2. Chequear outliers:\n"
      ],
      "metadata": {
        "id": "mOjRhsO2XhpT"
      },
      "id": "mOjRhsO2XhpT"
    },
    {
      "cell_type": "code",
      "source": [
        "fig = px.box(ds, y=\"age\")\n",
        "fig.show()"
      ],
      "metadata": {
        "id": "BO3euDep3z3u"
      },
      "id": "BO3euDep3z3u",
      "execution_count": null,
      "outputs": []
    },
    {
      "cell_type": "code",
      "source": [
        "ds.age.duplicated().value_counts()\n"
      ],
      "metadata": {
        "id": "WMJSE-iH8QxE"
      },
      "id": "WMJSE-iH8QxE",
      "execution_count": null,
      "outputs": []
    },
    {
      "cell_type": "markdown",
      "source": [
        "Podemos visualizar la variable \"age\" aplicando un diagrama de caja, observando que el 50 por ciento de nuestra distribución (percentiles 25 a 75) se concentra entre los 33 y 48 años, el valor mínimo el cual también coincide con el valor más pequeño que cae dentro del rango de datos incluidos es de 18 años, y el valor más alto que se ubica dentro del rango de puntos es 70, teniendo así un máximo de 95 años. \n",
        "**Como outliers podríamos tomar a las edades por encima de 70 años, teniendo outliers ligeros como 71 años, y outliers extremos como 95 años.**\n",
        "\n",
        "Como el resto de variables de entrada son strings, no podemos aplicarles el diagrama de caja sin antes aplicarles algún método para poder expresarlas en números. El análisis actual solo se limita a analizar variables numéricas.\n",
        "\n",
        "No será necesario eliminar columnas duplicadas porque más allá de que se podría repetir age (de hecho se repiten en 42564 filas), duration, job, education, housing o loan, no es aplicable ya que un mismo cliente podría tener la misma edad, el mismo trabajo, o la misma educación.  \n",
        "\n",
        "Como conclusión tenemos que la variable age presenta outliers, y la variable poutcome presenta valores NaN en un porcentaje del 85%."
      ],
      "metadata": {
        "id": "5AyWyJEN6Q14"
      },
      "id": "5AyWyJEN6Q14"
    },
    {
      "cell_type": "markdown",
      "id": "taBEU3YGb8L3",
      "metadata": {
        "id": "taBEU3YGb8L3"
      },
      "source": [
        "### 5. Verificar si existen variables altamente correlacionadas con la variable \"target\". En dicho caso, explicar por qué considera que esto pasa.\n",
        "(ver duration)\n",
        "Emi"
      ]
    },
    {
      "cell_type": "code",
      "source": [
        "ds[\"term_deposit\"] = ds.term_deposit.replace(['no','yes'], [0, 1])\n",
        "ds.corr()"
      ],
      "metadata": {
        "id": "NTiCuPHpqE9p"
      },
      "id": "NTiCuPHpqE9p",
      "execution_count": null,
      "outputs": []
    },
    {
      "cell_type": "code",
      "source": [
        "ds[\"term_deposit\"] = ds.term_deposit.replace(['no','yes'], [0, 1])\n",
        "sns.heatmap(ds.corr(), annot=True, cmap='RdYlGn', linewidths=0.2)\n",
        "fig=plt.gcf()\n",
        "fig.set_size_inches(10, 10)\n",
        "plt.show()"
      ],
      "metadata": {
        "id": "mv8QLr10qYfa"
      },
      "id": "mv8QLr10qYfa",
      "execution_count": null,
      "outputs": []
    },
    {
      "cell_type": "markdown",
      "source": [
        "Como observamos en mapa de calor tenemos las siguientes correlaciones positivas/negativas entre la variable target term_deposit y algunas variables de entrada:"
      ],
      "metadata": {
        "id": "ZliScfjurgTF"
      },
      "id": "ZliScfjurgTF"
    },
    {
      "cell_type": "markdown",
      "id": "BAfZ8AD7mTci",
      "metadata": {
        "id": "BAfZ8AD7mTci"
      },
      "source": [
        "## 3. Hipótesis sobre los datos"
      ]
    },
    {
      "cell_type": "markdown",
      "source": [
        "### 1. Formular hipótesis sobre la variable target bajo determinadas condiciones\n",
        "*Hipótesis 1:* Si el cliente tiene un préstamo personal y de vivienda (loan y housing), el cliente no está interesado en suscribirse a un depósito a plazo.\n",
        "\n",
        "*Hipótesis 2:* Relacionando la edad del cliente y su edad (age y job) puede ser que tome o no una suscripción a un depósito a plazo dependiendo las siguientes combinaciones:\n",
        "- 18 - 25 años y es 'student'\n",
        "- 25 - 60 años y es 'management'\n",
        "- 20 - 60 años y es 'blue-collar'\n",
        "Mauro\n",
        "\n",
        "*Hipótesis 3:* Si el cliente está casado, y trabaja de 'blue-collar' es probable que no saque un depósito a plazo \n",
        "Emi\n",
        "\n",
        "*Hipótesis 4:* Si el cliente está casado, y trabaja de 'management' es probable que no saque un depósito a plazo \n",
        "Emi\n",
        "\n",
        "*Hipótesis 4:* Si el cliente tiene educacion primaria y trabaja de 'blue-collar' (education y job) es probable que no saque un depósito a plazo\n",
        "Mauro"
      ],
      "metadata": {
        "id": "JTTyQ-L3jktA"
      },
      "id": "JTTyQ-L3jktA"
    },
    {
      "cell_type": "markdown",
      "id": "e3062705",
      "metadata": {
        "id": "e3062705"
      },
      "source": [
        "### 2. Comprobación de hipotesis\n"
      ]
    },
    {
      "cell_type": "markdown",
      "id": "916d4759",
      "metadata": {
        "id": "916d4759"
      },
      "source": [
        "#### Hipótesis 1: \n",
        "Si el cliente tiene un préstamo personal y de vivienda (loan y housing), el cliente no está interesado en suscribirse a un depósito a plazo."
      ]
    },
    {
      "cell_type": "code",
      "execution_count": null,
      "id": "10eca0cb",
      "metadata": {
        "id": "10eca0cb"
      },
      "outputs": [],
      "source": [
        "ds_loan_housing = ds[(ds['loan']=='yes')&(ds['housing']=='yes')]\n",
        "\n",
        "ds_loan_housing.term_deposit.value_counts().plot.pie(autopct='%1.0f%%', figsize=(8,8))"
      ]
    },
    {
      "cell_type": "markdown",
      "id": "4b208347",
      "metadata": {
        "id": "4b208347"
      },
      "source": [
        "Para verificar esta hipótesis, se confeccionó un gráfico de torta que muestre para todos los clientes que tienen cŕédito personal y crédito de vivienda a la vez, información que indique si se suscribe a un plazo fijo o no.\n",
        "\n",
        "A partir de la gráfica obtenida, podemos concluir que la hipotesis es verdadera, y existe una tendencia del cliente a no suscribirse a un plazo fijo cuando posee credito personal y de vivienda a la vez."
      ]
    },
    {
      "cell_type": "markdown",
      "source": [
        "#### Hipótesis 2: \n",
        "Relacionando la edad del cliente y su edad (age y job) puede ser que tome o no una suscripción a un depósito a plazo dependiendo las siguientes combinaciones:\n",
        "- 18 - 25 años y es 'student'\n",
        "- 25 - 60 años y es 'management'\n",
        "- 20 - 60 años y es 'blue-collar'"
      ],
      "metadata": {
        "id": "gWs4leJucoA_"
      },
      "id": "gWs4leJucoA_"
    },
    {
      "cell_type": "code",
      "source": [
        ""
      ],
      "metadata": {
        "id": "pUiSQh4IcsvI"
      },
      "id": "pUiSQh4IcsvI",
      "execution_count": null,
      "outputs": []
    }
  ],
  "metadata": {
    "accelerator": "GPU",
    "colab": {
      "collapsed_sections": [],
      "name": "tp1_EDA.ipynb",
      "private_outputs": true,
      "provenance": [],
      "toc_visible": true
    },
    "kernelspec": {
      "display_name": "Python 3 (ipykernel)",
      "language": "python",
      "name": "python3"
    },
    "language_info": {
      "codemirror_mode": {
        "name": "ipython",
        "version": 3
      },
      "file_extension": ".py",
      "mimetype": "text/x-python",
      "name": "python",
      "nbconvert_exporter": "python",
      "pygments_lexer": "ipython3",
      "version": "3.8.10"
    }
  },
  "nbformat": 4,
  "nbformat_minor": 5
}