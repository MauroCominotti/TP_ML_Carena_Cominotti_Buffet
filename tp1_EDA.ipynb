{
  "cells": [
    {
      "cell_type": "markdown",
      "source": [
        "# Trabajo Práctico 1: Análisis Exploratorio de Datos\n",
        "## Fecha y hora de entrega máxima:\n",
        "11/04/2022 18:00\n",
        "\n",
        "## Acerca del Dataset \"Datos de clientes del banco\"\n",
        "Los datos están relacionados con campañas de marketing directo (llamadas telefónicas) de una institución bancaria portuguesa. El objetivo de la clasificación es predecir si el cliente suscribirá un depósito a plazo."
      ],
      "metadata": {
        "id": "i-UBsJUTE13r"
      },
      "id": "i-UBsJUTE13r"
    },
    {
      "cell_type": "markdown",
      "id": "49c85bb6",
      "metadata": {
        "id": "49c85bb6"
      },
      "source": [
        "## 1. Listado de variables y selección\n",
        "- Por cada variable explicar en una oración el contenido de dicha variable y definir si será utilizada como variable de entrada, de salida, o no será utilizada.\n",
        "- Para la variable de salida especificar los valores posibles que puede tener.\n",
        "- Por cada variable que no se vaya a utilizar, explicar brevemente el motivo.\n",
        "\n",
        "<br />\n",
        "\n",
        "|Variable|Descripción|Entrada|Salida|Sin utilización|\n",
        "|--|---|---|--|--|\n",
        "|age|Edad del cliente|X  |||\n",
        "|job|Tipo de trabajo del cliente|X  |||\n",
        "|marital|Estado civil del cliente|X  |||\n",
        "|education|Tipo de educación del cliente|X  |||\n",
        "|default|Indica si el cliente tiene crédito en mora|X  |||\n",
        "|balance|Balance actual del cliente|X  |||\n",
        "|housing|Indica si el cliente tiene un prestamo de vivienda|X  |||\n",
        "|loan|Indica si el cliente tiene un prestamo personal|X  |||\n",
        "|contact|Tipo de comunicación con el cliente|X  |||\n",
        "|day|Día de la semana en que hubo contacto con el cliente por última vez |X  |||\n",
        "|month|Mes del año en que hubo contacto con el cliente por últtima vez|X  |||\n",
        "|duration|Duración en segundos del último contacto con el cliente|X  |||\n",
        "|campaign|Número de contactos realizados al cliente durante la campaña|X  |||\n",
        "|pdays|Número de días transcurridos desde la última vez que se contacto al cliente desde una campaña anterior|X  |||\n",
        "|previous|Número de contactos realizados al cliente antes de la campaña actual|X  |||\n",
        "|poutcome|Resultado de la campaña de marketing anterior|X  |||\n",
        "|term_deposit|Indica si el cliente ha suscrito un depósito a término||X||\n",
        "\n",
        "<br />\n",
        "\n",
        "En cuanto a la variable de salida \"term_deposit\", los valores posibles que puede tener son un string binario \"yes\" o \"no\". No posee otro valor que éstos dos, con lo cual los datos de la variable de salida son utilizables sin necesidad de limpiarlos.\n",
        "\n",
        "<br />\n",
        "\n",
        "En cuanto a las variables que no se utilizarán, no elegimos ninguna, ya que consideramos que TODAS las variables de entrada posiblemente tengan una correlación con la variable de salida \"term_deposit\"."
      ]
    },
    {
      "cell_type": "code",
      "source": [
        "# Importamos las dependencias necesarias.\n",
        "import pandas as pd\n",
        "import numpy as np\n",
        "import matplotlib\n",
        "import matplotlib.pyplot as plt\n",
        "import seaborn as sns\n",
        "import plotly\n",
        "import keras\n",
        "import tensorflow as tf\n",
        "import h5py\n",
        "import PIL\n",
        "import sklearn_pandas\n",
        "import plotly.express as px"
      ],
      "metadata": {
        "id": "UhFTkRRiD6rA"
      },
      "id": "UhFTkRRiD6rA",
      "execution_count": null,
      "outputs": []
    },
    {
      "cell_type": "code",
      "source": [
        "# If we import the dataset from the csv file we see we have values with the value \"unknown\"\n",
        "ds = pd.read_csv(\"BankCustomerData.csv\")\n",
        "\n",
        "# Return the first five rows of the DataFrame\n",
        "ds.head()"
      ],
      "metadata": {
        "id": "5cn2nZPfOUXM"
      },
      "id": "5cn2nZPfOUXM",
      "execution_count": null,
      "outputs": []
    },
    {
      "cell_type": "code",
      "source": [
        "# To replace these values with NaN, we must provide a list with all missing value formats\n",
        "missing_value_formats = [\"unknown\", \"n.a.\",\"?\",\"NA\",\"n/a\", \"na\", \"--\"]\n",
        "ds = pd.read_csv(\"BankCustomerData.csv\", na_values = missing_value_formats)\n",
        "\n",
        "# Display the firsts and lasts lines of the file\n",
        "ds"
      ],
      "metadata": {
        "id": "1CPQSLIKPlYB"
      },
      "id": "1CPQSLIKPlYB",
      "execution_count": null,
      "outputs": []
    },
    {
      "cell_type": "code",
      "source": [
        "# Get the length of the file\n",
        "len(ds)"
      ],
      "metadata": {
        "id": "O8aFul9jP4dM"
      },
      "id": "O8aFul9jP4dM",
      "execution_count": null,
      "outputs": []
    },
    {
      "cell_type": "code",
      "source": [
        "# See dataset dimensions\n",
        "ds.shape"
      ],
      "metadata": {
        "id": "FBecxiC5bxK5"
      },
      "id": "FBecxiC5bxK5",
      "execution_count": null,
      "outputs": []
    },
    {
      "cell_type": "code",
      "source": [
        "# Return the columns structure of the DataFrame\n",
        "ds.dtypes"
      ],
      "metadata": {
        "id": "M_cTxxmTP15m",
        "collapsed": true
      },
      "id": "M_cTxxmTP15m",
      "execution_count": null,
      "outputs": []
    },
    {
      "cell_type": "code",
      "source": [
        "# Return the NULL quantity values in each column\n",
        "ds.isnull().sum()"
      ],
      "metadata": {
        "id": "jUrsKs1MbLJU"
      },
      "id": "jUrsKs1MbLJU",
      "execution_count": null,
      "outputs": []
    },
    {
      "cell_type": "markdown",
      "source": [
        "## 2. Análisis detallado de un conjunto de variables\n",
        "### 2.1 Para la variable de salida, explicar y graficar su balanceo y qué consecuencias va a tener eso a la hora de entrenar y medir el rendimiento de distintos modelos."
      ],
      "metadata": {
        "id": "k95vFK-cYiIe"
      },
      "id": "k95vFK-cYiIe"
    },
    {
      "cell_type": "code",
      "source": [
        "# See percentage of yes and no in term_deposit as Bar Plot\n",
        "ax = ds.term_deposit.value_counts().plot.bar()\n",
        "\n",
        "for p in ax.patches:\n",
        "    ax.annotate(str(p.get_height()), (p.get_x() * 1, p.get_height() * 1))"
      ],
      "metadata": {
        "id": "viUHd89FV-EW"
      },
      "id": "viUHd89FV-EW",
      "execution_count": null,
      "outputs": []
    },
    {
      "cell_type": "code",
      "source": [
        "# See percentage of yes and no in term_deposit as Pie Plot\n",
        "ds.term_deposit.value_counts().plot.pie()"
      ],
      "metadata": {
        "id": "I_3eiFQccA6i"
      },
      "id": "I_3eiFQccA6i",
      "execution_count": null,
      "outputs": []
    },
    {
      "cell_type": "code",
      "source": [
        "# Does not work with .value_counts(), so instead use len()\n",
        "yes_counts = len(ds[ds.term_deposit == \"yes\"].term_deposit)\n",
        "no_counts = len(ds[ds.term_deposit == \"no\"].term_deposit)\n",
        "total_counts = len(ds)\n",
        "\n",
        "print(\"Counts\")\n",
        "print(\"Yes counts: \", yes_counts)\n",
        "print(\"No counts: \", no_counts)\n",
        "print(\"Total counts: \", (yes_counts + no_counts))\n",
        "print(\"\")\n",
        "print(\"Percentages\")\n",
        "print(\"Yes percentage: \", (yes_counts / total_counts) * 100)\n",
        "print(\"No percentage: \", (no_counts / total_counts) * 100)"
      ],
      "metadata": {
        "id": "6lsM3aN6Y7A3"
      },
      "id": "6lsM3aN6Y7A3",
      "execution_count": null,
      "outputs": []
    },
    {
      "cell_type": "markdown",
      "source": [
        "Como se puede observar en el gráfico de barras y en el de torta, existe un claro desequilibrio en los valores de la variable de salida \"term_deposit\", ya que el 90.5% de los clientes decidió no suscribirse a un depósito a plazo, mientras que un 9.5% sí lo hizo.\n",
        "\n",
        "Debido a la gran cantidad de valores 'no', se podría llegar a afectar el entrenamiento y la medición del rendimiento del modelo, ya que podría aprender a predecir que en la mayoría de los casos, los clientes no se suscribirán a un depósito a plazo para evitar fallas."
      ],
      "metadata": {
        "id": "pYG_PF47ZQNX"
      },
      "id": "pYG_PF47ZQNX"
    },
    {
      "cell_type": "markdown",
      "source": [
        "### 2.2 Para 5 variables de entrada (elegidas o no, pero incluyendo al menos 3 elegidas) graficar y explicar cómo se comportan y cómo afectan a la variable de salida."
      ],
      "metadata": {
        "id": "GvLaaflLasOB"
      },
      "id": "GvLaaflLasOB"
    },
    {
      "cell_type": "markdown",
      "source": [
        "Para las variables de entrada, elegimos las siguientes 5 columnas:\n",
        "- age\n",
        "- balance\n",
        "- loan\n",
        "- housing\n",
        "- contact"
      ],
      "metadata": {
        "id": "P7oE52hscII9"
      },
      "id": "P7oE52hscII9"
    },
    {
      "cell_type": "markdown",
      "source": [
        "#### Variable age:"
      ],
      "metadata": {
        "id": "z-7-zuXOceBH"
      },
      "id": "z-7-zuXOceBH"
    },
    {
      "cell_type": "code",
      "source": [
        "px.histogram(ds, x='age', color='term_deposit', barmode='group')"
      ],
      "metadata": {
        "id": "ARr117_MdRxL"
      },
      "id": "ARr117_MdRxL",
      "execution_count": null,
      "outputs": []
    },
    {
      "cell_type": "code",
      "source": [
        "ds.groupby(\"term_deposit\").aggregate({\"age\": \"mean\"})"
      ],
      "metadata": {
        "id": "1HsLb61Eifyo"
      },
      "id": "1HsLb61Eifyo",
      "execution_count": null,
      "outputs": []
    },
    {
      "cell_type": "code",
      "source": [
        "ds.groupby(\"term_deposit\").aggregate({\"age\": \"max\"})"
      ],
      "metadata": {
        "id": "u7cdPz0hjpOR"
      },
      "id": "u7cdPz0hjpOR",
      "execution_count": null,
      "outputs": []
    },
    {
      "cell_type": "code",
      "source": [
        "ds.groupby(\"term_deposit\").aggregate({\"age\": \"min\"})"
      ],
      "metadata": {
        "id": "yun1g310jtYh"
      },
      "id": "yun1g310jtYh",
      "execution_count": null,
      "outputs": []
    },
    {
      "cell_type": "markdown",
      "source": [
        "En cuanto a la edad del cliente en relación a la variable term_deposit, podemos observar considerando el histograma, que esta variable de entrada guarda relación con la variable de salida term_deposit debido a que  se observa una tendencia alcista hasta la edad de 32 años, para luego ir decreciendo a lo largo del gráfico. \n",
        "\n",
        "Esto significa que el lograr que un cliente decida suscribirse o no a un depósito a plazo dependerá en gran medida de la edad de la persona.\n",
        "\n",
        "\n",
        "Ésto podría suceder a raíz de que las personas que poseen cerca de 30 años poseen una capacidad de ahorro mayor, con lo cual la gran mayoría de las campañas para que un cliente decida suscribirse o no a un depósito a plazo están dirigidas hacia personas con una franza de edad de entre 30 y 50 años aproximadamente, con un promedio de edad de 40 años tanto para los \"yes\" como para los \"no\""
      ],
      "metadata": {
        "id": "0Ss7bRragDVG"
      },
      "id": "0Ss7bRragDVG"
    },
    {
      "cell_type": "markdown",
      "source": [
        "### 2.3 Para cada una de las variables de entrada elegidas, explicar si se debería realizar o no alguna transformación para poder utilizarla como entrada de un modelo y por qué."
      ],
      "metadata": {
        "id": "93XTZXHFb8dr"
      },
      "id": "93XTZXHFb8dr"
    },
    {
      "cell_type": "markdown",
      "source": [
        "### 2.4 Analizar si las variables de entrada seleccionadas presentan valores nulos y/o extremos. En caso de encontrar dichas condiciones, indicar qué tratamiento se podría darle a las mismas y por qué."
      ],
      "metadata": {
        "id": "49osd1g1b8YS"
      },
      "id": "49osd1g1b8YS"
    },
    {
      "cell_type": "markdown",
      "source": [
        "### 2.5 Verificar si existen variables altamente correlacionadas con la variable \"target\". En dicho caso, explicar por qué considera que esto pasa."
      ],
      "metadata": {
        "id": "taBEU3YGb8L3"
      },
      "id": "taBEU3YGb8L3"
    }
  ],
  "metadata": {
    "kernelspec": {
      "display_name": "Python 3 (ipykernel)",
      "language": "python",
      "name": "python3"
    },
    "language_info": {
      "codemirror_mode": {
        "name": "ipython",
        "version": 3
      },
      "file_extension": ".py",
      "mimetype": "text/x-python",
      "name": "python",
      "nbconvert_exporter": "python",
      "pygments_lexer": "ipython3",
      "version": "3.8.10"
    },
    "colab": {
      "name": "Copia de tp1_EDA.ipynb",
      "provenance": [],
      "private_outputs": true,
      "collapsed_sections": []
    },
    "accelerator": "GPU"
  },
  "nbformat": 4,
  "nbformat_minor": 5
}