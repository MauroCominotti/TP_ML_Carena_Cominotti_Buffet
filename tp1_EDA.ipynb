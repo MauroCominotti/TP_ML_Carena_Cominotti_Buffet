{
 "cells": [
  {
   "cell_type": "markdown",
   "id": "49c85bb6",
   "metadata": {},
   "source": [
    "|Variable|Descripción|Entrada|Salida|Sin utilización|\n",
    "|--|---|---|--|--|\n",
    "|age|Edad del cliente|X  |||\n",
    "|job|Tipo de trabajo del cliente|X  |||\n",
    "|marital|Estado civil del cliente|X  |||\n",
    "|education|Tipo de educación del cliente|X  |||\n",
    "|default|Indica si el cliente tiene crédito en mora|X  |||\n",
    "|balance|Balance actual del cliente|||X|\n",
    "|housing|Indica si el cliente tiene un prestamo de vivienda|X  |||\n",
    "|loan|Indica si el cliente tiene un prestamo personal|X  |||\n",
    "|contact|Tipo de comunicación con el cliente|||X|\n",
    "|day|Día de la semana en que hubo contacto con el cliente por última vez | ||X|\n",
    "|month|Mes del año en que hubo contacto con el cliente por últtima vez|||X|\n",
    "|duration|Duración en segundos del último contacto con el cliente|||X|\n",
    "|campaign|Número de contactos realizados al cliente durante la campaña|X  |||\n",
    "|pdays|Número de días transcurridos desde la última vez que se contacto al cliente desde una campaña anterior|X  |||\n",
    "|previous|Número de contactos realizados al cliente antes de la campaña actual|X  |||\n",
    "|poutcome|Resultado de la campaña de marketing anterior|X  |||\n",
    "|term_deposit|Indica si el cliente ha suscrito un depósito a término||X||"
   ]
  },
  {
   "cell_type": "code",
   "execution_count": null,
   "id": "b9d70259",
   "metadata": {},
   "outputs": [],
   "source": []
  }
 ],
 "metadata": {
  "kernelspec": {
   "display_name": "Python 3 (ipykernel)",
   "language": "python",
   "name": "python3"
  },
  "language_info": {
   "codemirror_mode": {
    "name": "ipython",
    "version": 3
   },
   "file_extension": ".py",
   "mimetype": "text/x-python",
   "name": "python",
   "nbconvert_exporter": "python",
   "pygments_lexer": "ipython3",
   "version": "3.8.10"
  }
 },
 "nbformat": 4,
 "nbformat_minor": 5
}
