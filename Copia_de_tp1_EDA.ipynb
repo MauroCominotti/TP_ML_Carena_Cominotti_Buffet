{
  "cells": [
    {
      "cell_type": "markdown",
      "source": [
        "# Trabajo Práctico 1: Análisis Exploratorio de Datos\n",
        "## Fecha y hora de entrega máxima:\n",
        "11/04/2022 18:00\n",
        "\n",
        "## Consigna:\n",
        "Seleccionar un conjunto de datos que sea de su interés y tenga al menos 6 variables. Una de ellas deberá ser el \"target\" del problema en cuestión y deberá ser discreta."
      ],
      "metadata": {
        "id": "i-UBsJUTE13r"
      },
      "id": "i-UBsJUTE13r"
    },
    {
      "cell_type": "markdown",
      "source": [
        "## 1. Listado de variables y selección\n",
        "- Por cada variable explicar en una oración el contenido de dicha variable y definir si será utilizada como variable de entrada, de salida, o no será utilizada.\n",
        "- Para la variable de salida especificar los valores posibles que puede tener.\n",
        "- Por cada variable que no se vaya a utilizar, explicar brevemente el motivo."
      ],
      "metadata": {
        "id": "dluSWSzHEpoT"
      },
      "id": "dluSWSzHEpoT"
    },
    {
      "cell_type": "markdown",
      "id": "49c85bb6",
      "metadata": {
        "id": "49c85bb6"
      },
      "source": [
        "|Variable|Descripción|Entrada|Salida|Sin utilización|\n",
        "|--|---|---|--|--|\n",
        "|age|Edad del cliente|X  |||\n",
        "|job|Tipo de trabajo del cliente|X  |||\n",
        "|marital|Estado civil del cliente|X  |||\n",
        "|education|Tipo de educación del cliente|X  |||\n",
        "|default|Indica si el cliente tiene crédito en mora|X  |||\n",
        "|balance|Balance actual del cliente|||X|\n",
        "|housing|Indica si el cliente tiene un prestamo de vivienda|X  |||\n",
        "|loan|Indica si el cliente tiene un prestamo personal|X  |||\n",
        "|contact|Tipo de comunicación con el cliente|||X|\n",
        "|day|Día de la semana en que hubo contacto con el cliente por última vez | ||X|\n",
        "|month|Mes del año en que hubo contacto con el cliente por últtima vez|||X|\n",
        "|duration|Duración en segundos del último contacto con el cliente|||X|\n",
        "|campaign|Número de contactos realizados al cliente durante la campaña|X  |||\n",
        "|pdays|Número de días transcurridos desde la última vez que se contacto al cliente desde una campaña anterior|X  |||\n",
        "|previous|Número de contactos realizados al cliente antes de la campaña actual|X  |||\n",
        "|poutcome|Resultado de la campaña de marketing anterior|X  |||\n",
        "|term_deposit|Indica si el cliente ha suscrito un depósito a término||X||\n",
        "\n",
        "<br />\n",
        "\n",
        "En cuanto a la variable de salida \"term_deposit\", los valores posibles que puede tener son un string binario \"yes\" o \"no\". No posee otro valor que éstos dos, con lo cual los datos de la variable de salida son utilizables sin necesidad de limpiarlos.\n",
        "\n",
        "<br />\n",
        "\n",
        "En cuanto a las variables que no se utilizarán (balance, contact, day, month, y duration) no se las incluye en el análisis expuesto ya que no son variables que consideramos tengan una correlación con la variable de salida \"term_deposit\".\n",
        "\n",
        "Cabe resaltar que la variable \"contact\" posee un 30% de los datos con el valor \"unknown\", lo cual no ayudaría a la precisión del modelo, y no haría predicciones certeras."
      ]
    },
    {
      "cell_type": "code",
      "source": [
        "# Importamos las dependencias necesarias.\n",
        "import pandas as pd\n",
        "import numpy as np\n",
        "import matplotlib\n",
        "import matplotlib.pyplot as plt\n",
        "import seaborn as sns\n",
        "import plotly\n",
        "import keras\n",
        "import tensorflow as tf\n",
        "import h5py\n",
        "import PIL\n",
        "import sklearn_pandas\n",
        "import plotly.express as px"
      ],
      "metadata": {
        "id": "UhFTkRRiD6rA"
      },
      "id": "UhFTkRRiD6rA",
      "execution_count": null,
      "outputs": []
    },
    {
      "cell_type": "code",
      "source": [
        "# If we import the dataset from the csv file we see we have values with the value \"unknown\"\n",
        "ds = pd.read_csv(\"BankCustomerData.csv\")\n",
        "\n",
        "# Return the first five rows of the DataFrame\n",
        "ds.head()"
      ],
      "metadata": {
        "id": "5cn2nZPfOUXM"
      },
      "id": "5cn2nZPfOUXM",
      "execution_count": null,
      "outputs": []
    },
    {
      "cell_type": "code",
      "source": [
        "# To replace these values with NaN, we must provide a list with all missing value formats\n",
        "missing_value_formats = [\"unknown\", \"n.a.\",\"?\",\"NA\",\"n/a\", \"na\", \"--\"]\n",
        "ds = pd.read_csv(\"BankCustomerData.csv\", na_values = missing_value_formats)\n",
        "\n",
        "# Display the firsts and lasts lines of the file\n",
        "ds"
      ],
      "metadata": {
        "id": "1CPQSLIKPlYB"
      },
      "id": "1CPQSLIKPlYB",
      "execution_count": null,
      "outputs": []
    },
    {
      "cell_type": "code",
      "source": [
        "# Get the length of the file\n",
        "len(ds)"
      ],
      "metadata": {
        "id": "O8aFul9jP4dM"
      },
      "id": "O8aFul9jP4dM",
      "execution_count": null,
      "outputs": []
    },
    {
      "cell_type": "code",
      "source": [
        "# See dataset dimensions\n",
        "ds.shape"
      ],
      "metadata": {
        "id": "FBecxiC5bxK5"
      },
      "id": "FBecxiC5bxK5",
      "execution_count": null,
      "outputs": []
    },
    {
      "cell_type": "code",
      "source": [
        "# Return the columns structure of the DataFrame\n",
        "ds.dtypes"
      ],
      "metadata": {
        "id": "M_cTxxmTP15m",
        "collapsed": true
      },
      "id": "M_cTxxmTP15m",
      "execution_count": null,
      "outputs": []
    },
    {
      "cell_type": "markdown",
      "source": [
        "## 2. Análisis detallado de un conjunto de variables"
      ],
      "metadata": {
        "id": "k95vFK-cYiIe"
      },
      "id": "k95vFK-cYiIe"
    },
    {
      "cell_type": "code",
      "source": [
        "# See percentage of yes and no in term_deposit as Bar Plot\n",
        "ax = ds.term_deposit.value_counts().plot.bar()\n",
        "\n",
        "for p in ax.patches:\n",
        "    ax.annotate(str(p.get_height()), (p.get_x() * 1, p.get_height() * 1))"
      ],
      "metadata": {
        "id": "viUHd89FV-EW"
      },
      "id": "viUHd89FV-EW",
      "execution_count": null,
      "outputs": []
    },
    {
      "cell_type": "code",
      "source": [
        "# See percentage of yes and no in term_deposit as Pie Plot\n",
        "ds.term_deposit.value_counts().plot.pie()"
      ],
      "metadata": {
        "id": "I_3eiFQccA6i"
      },
      "id": "I_3eiFQccA6i",
      "execution_count": null,
      "outputs": []
    },
    {
      "cell_type": "code",
      "source": [
        "# Does not work with .value_counts(), so instead use len()\n",
        "yes_counts = len(ds[ds.term_deposit == \"yes\"].term_deposit)\n",
        "no_counts = len(ds[ds.term_deposit == \"no\"].term_deposit)\n",
        "total_counts = len(ds)\n",
        "\n",
        "print(\"Counts\")\n",
        "print(\"Yes counts: \", yes_counts)\n",
        "print(\"No counts: \", no_counts)\n",
        "print(\"Total counts: \", (yes_counts + no_counts))\n",
        "print(\"\")\n",
        "print(\"Percentages\")\n",
        "print(\"Yes percentage: \", (yes_counts / total_counts) * 100)\n",
        "print(\"No percentage: \", (no_counts / total_counts) * 100)"
      ],
      "metadata": {
        "id": "6lsM3aN6Y7A3"
      },
      "id": "6lsM3aN6Y7A3",
      "execution_count": null,
      "outputs": []
    }
  ],
  "metadata": {
    "kernelspec": {
      "display_name": "Python 3 (ipykernel)",
      "language": "python",
      "name": "python3"
    },
    "language_info": {
      "codemirror_mode": {
        "name": "ipython",
        "version": 3
      },
      "file_extension": ".py",
      "mimetype": "text/x-python",
      "name": "python",
      "nbconvert_exporter": "python",
      "pygments_lexer": "ipython3",
      "version": "3.8.10"
    },
    "colab": {
      "name": "Copia de tp1_EDA.ipynb",
      "provenance": [],
      "private_outputs": true,
      "collapsed_sections": []
    },
    "accelerator": "GPU"
  },
  "nbformat": 4,
  "nbformat_minor": 5
}