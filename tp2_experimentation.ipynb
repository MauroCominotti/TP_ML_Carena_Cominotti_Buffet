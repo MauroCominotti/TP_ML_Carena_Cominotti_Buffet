{
  "cells": [
    {
      "cell_type": "code",
      "source": [
        "# https://stackoverflow.com/questions/21971449/how-do-i-increase-the-cell-width-of-the-jupyter-ipython-notebook-in-my-browser\n",
        "from IPython.core.display import display, HTML\n",
        "display(HTML(\"<style>.container { width:100% !important; }</style>\"))\n",
        "display(HTML(\"<style>.output_result { max-width:100% !important; }</style>\"))\n",
        "display(HTML(\"<style>.prompt { display:none !important; }</style>\"))"
      ],
      "metadata": {
        "id": "zH_Kd00CwNdv"
      },
      "execution_count": null,
      "outputs": []
    },
    {
      "cell_type": "markdown",
      "source": [
        "# Trabajo Práctico 2: Entrenamiento y evaluación de modelos\n",
        "---"
      ],
      "metadata": {
        "id": "fggOEw1ZsPtX"
      }
    },
    {
      "cell_type": "markdown",
      "source": [
        "## Fecha y hora de entrega máxima:\n",
        "09/05/2022 18:00"
      ],
      "metadata": {
        "id": "sNVf73dvsZMx"
      }
    },
    {
      "cell_type": "markdown",
      "source": [
        "## Dataset \"Datos de clientes del banco\"\n",
        "Los datos están relacionados con campañas de marketing directo (llamadas telefónicas) de una institución bancaria portuguesa. El objetivo de la clasificación es predecir si el cliente suscribirá un depósito a plazo.\n",
        "\n",
        "<img src=\"https://storage.googleapis.com/kaggle-datasets-images/864595/1473402/1f559c7d6d646d0a5f24c1847fb10225/dataset-cover.jpg?t=2020-09-08-19-15-14\"></img>"
      ],
      "metadata": {
        "id": "mJvBcdjAvLC0"
      }
    },
    {
      "cell_type": "code",
      "execution_count": null,
      "metadata": {
        "id": "3bf5c98e"
      },
      "outputs": [],
      "source": [
        "# Import dependencies\n",
        "import numpy as np\n",
        "import matplotlib.pyplot as plt\n",
        "import plotly\n",
        "import plotly.express as px\n",
        "import pandas as pd\n",
        "import sklearn_pandas\n",
        "import seaborn as sns\n",
        "from sklearn.preprocessing import MinMaxScaler, StandardScaler, OneHotEncoder, LabelEncoder, QuantileTransformer\n",
        "from sklearn_pandas import DataFrameMapper\n",
        "from sklearn.compose import ColumnTransformer\n",
        "from sklearn.model_selection import train_test_split\n",
        "from sklearn.linear_model import LogisticRegression\n",
        "from sklearn.metrics import confusion_matrix, accuracy_score, precision_score, recall_score, roc_curve, roc_auc_score, f1_score\n",
        "from sklearn.pipeline import Pipeline\n",
        "from sklearn.experimental import enable_iterative_imputer\n",
        "from collections import defaultdict\n",
        "from sklearn.neighbors import KNeighborsClassifier\n",
        "from sklearn.ensemble import RandomForestClassifier, GradientBoostingClassifier\n",
        "from sklearn.tree import DecisionTreeClassifier\n",
        "\n",
        "# Ignore all warnings\n",
        "import warnings\n",
        "warnings.filterwarnings('ignore')"
      ]
    },
    {
      "cell_type": "markdown",
      "source": [
        "## **IMPORTANDO DATASET**"
      ],
      "metadata": {
        "id": "d7Y1hsJYPEmw"
      }
    },
    {
      "cell_type": "code",
      "source": [
        "# To replace these values with NaN, we must provide a list with all missing value formats\n",
        "missing_value_formats = [\"unknown\", \"n.a.\",\"?\",\"NA\",\"n/a\", \"na\", \"--\"]\n",
        "dataset_original = pd.read_csv(\"BankCustomerData.csv\", na_values = missing_value_formats)\n",
        "# We will fill all NaN values with a string with value 'missing'\n",
        "dataset_original.fillna('missing', inplace=True)\n",
        "ds = dataset_original\n",
        "ds_feature_eng = dataset_original\n",
        "ds"
      ],
      "metadata": {
        "id": "vvqmm3FRx86O"
      },
      "execution_count": null,
      "outputs": []
    },
    {
      "cell_type": "markdown",
      "source": [
        "## **FEATURE ENGINEERING**"
      ],
      "metadata": {
        "id": "ZCV8wARQRV47"
      }
    },
    {
      "cell_type": "code",
      "source": [
        "# Still need to finish this"
      ],
      "metadata": {
        "id": "d3xutH2lRZNo"
      },
      "execution_count": null,
      "outputs": []
    },
    {
      "cell_type": "markdown",
      "source": [
        "Usamos 5 quantiles para la edad..."
      ],
      "metadata": {
        "id": "5TSGIGa5z2f7"
      }
    },
    {
      "cell_type": "markdown",
      "source": [
        "### **Train, Validation and Test**"
      ],
      "metadata": {
        "id": "3YlhOmP6QrLZ"
      }
    },
    {
      "cell_type": "code",
      "source": [
        "ds[\"term_deposit\"] = ds.term_deposit.replace(['no', 'yes'], [0,1])\n",
        "ds_feature_eng[\"term_deposit\"] = ds_feature_eng.term_deposit.replace(['no', 'yes'], [0,1])\n",
        "# Dividimos el dataset en train (60%), test (20%) y validation (20%)\n",
        "train, not_train = train_test_split(ds, test_size=0.4, random_state=42)\n",
        "validation, test = train_test_split(not_train, test_size=0.5, random_state=42)"
      ],
      "metadata": {
        "id": "P21irofNQOXZ"
      },
      "execution_count": null,
      "outputs": []
    },
    {
      "cell_type": "markdown",
      "source": [
        "## **MÉTRICA A UTILIZAR**\n",
        "La métrica que utilizaremos es Accuracy, debido a que permite medir el porcentaje de casos acertados en la predicción, si"
      ],
      "metadata": {
        "id": "UfnZWo5osCa0"
      }
    },
    {
      "cell_type": "markdown",
      "source": [
        "## **MAPPING DE VARIABLES**"
      ],
      "metadata": {
        "id": "moV0E4NnP_18"
      }
    },
    {
      "cell_type": "code",
      "source": [
        "mapper = DataFrameMapper([\n",
        "    (['age'],[StandardScaler()]),\n",
        "    (['loan'],[OneHotEncoder()]),\n",
        "    (['housing'],[OneHotEncoder()]),\n",
        "    (['job'],[OneHotEncoder()]),\n",
        "    (['education'],[OneHotEncoder()]),\n",
        "    (['balance'],[StandardScaler()])\n",
        "])\n",
        "mapper.fit(train)\n",
        "mapper.transform(train)"
      ],
      "metadata": {
        "id": "I6bm-gzZ5fO5"
      },
      "execution_count": null,
      "outputs": []
    },
    {
      "cell_type": "markdown",
      "source": [
        "## ENTRENAMIENTO DE MODELOS\n",
        "Elegimos los siguientes 6 modelos para entrenar:\n",
        "- Logistic Regression\n",
        "- Arbol de Decisión\n",
        "- Random Forest\n",
        "- Gradient Boosting Classifier\n",
        "- KNN\n",
        "- Neural Networks MLP"
      ],
      "metadata": {
        "id": "63QpN4arysll"
      }
    },
    {
      "cell_type": "code",
      "source": [
        "def evaluate_model(model, set_names=('train', 'validation'), title='', is_feature_engineering=False, show_confusion_matrix=True):\n",
        "    if title:\n",
        "        display(title)\n",
        "    metrics_to_show = defaultdict(list)\n",
        "    if show_confusion_matrix:\n",
        "        fig, axis = plt.subplots(1, len(set_names), sharey=True, figsize=(15, 3))\n",
        "    for i, set_name in enumerate(set_names):\n",
        "        if is_feature_engineering:\n",
        "          assert set_name in ['train', 'validation', 'test']\n",
        "        set_data = globals()[set_name]\n",
        "        y = set_data.term_deposit\n",
        "        y_pred = model.predict(set_data)\n",
        "        metrics_to_show['Accuracy'].append(accuracy_score(y, y_pred))\n",
        "        metrics_to_show['Precision'].append(precision_score(y, y_pred))\n",
        "        metrics_to_show['Recall'].append(recall_score(y, y_pred))\n",
        "        metrics_to_show['F1'].append(f1_score(y, y_pred))\n",
        "        metrics_to_show['Roc Auc'].append(roc_auc_score(y, y_pred))\n",
        "        if show_confusion_matrix:\n",
        "            ax = axis[i]\n",
        "            sns.heatmap(confusion_matrix(y, y_pred), ax=ax, cmap='Blues', annot=True, fmt='.0f', cbar=False)\n",
        "\n",
        "            ax.set_title(set_name)\n",
        "            ax.xaxis.set_ticklabels(['No se suscribe', 'Se suscribe'])\n",
        "            ax.yaxis.set_ticklabels(['No se suscribe', 'Se suscribe'])\n",
        "            ax.set_xlabel('Clase Predecida')\n",
        "            ax.set_ylabel('Clase Original')\n",
        "\n",
        "    display(pd.DataFrame(metrics_to_show, index=set_names))\n",
        "    if show_confusion_matrix:\n",
        "        plt.tight_layout()\n",
        "        plt.show()"
      ],
      "metadata": {
        "id": "0f0FqN1MR6Sx"
      },
      "execution_count": null,
      "outputs": []
    },
    {
      "cell_type": "markdown",
      "source": [
        "### **Logistic Regression**"
      ],
      "metadata": {
        "id": "kM0HH26UR8op"
      }
    },
    {
      "cell_type": "code",
      "source": [
        "model_logistic_regression = Pipeline([\n",
        "    ('mapper', mapper),\n",
        "    ('classifier', LogisticRegression(random_state=100)),\n",
        "])\n",
        "model_logistic_regression.fit(train, train.term_deposit)\n",
        "evaluate_model(model_logistic_regression, title='Logistic Regression')"
      ],
      "metadata": {
        "id": "eR53dg2dR7iT"
      },
      "execution_count": null,
      "outputs": []
    },
    {
      "cell_type": "markdown",
      "source": [
        "### **Arbol de Decisión**"
      ],
      "metadata": {
        "id": "ow4TmI2isPWD"
      }
    },
    {
      "cell_type": "code",
      "source": [
        "model_tree_decision = Pipeline([\n",
        "    ('mapper', mapper),\n",
        "    ('classifier', DecisionTreeClassifier(max_depth = 7, random_state=100)),\n",
        "])\n",
        "model_tree_decision.fit(train, train.term_deposit)\n",
        "evaluate_model(model_tree_decision, title='Arbol de Decisión')"
      ],
      "metadata": {
        "id": "xpPLiMZEsVLh"
      },
      "execution_count": null,
      "outputs": []
    },
    {
      "cell_type": "markdown",
      "source": [
        "### **Random Forest**"
      ],
      "metadata": {
        "id": "NZReFLP-j7Tf"
      }
    },
    {
      "cell_type": "code",
      "source": [
        "model_random_forest = Pipeline([\n",
        "    ('mapper', mapper),\n",
        "    ('classifier', RandomForestClassifier(random_state=100)),\n",
        "])\n",
        "model_random_forest.fit(train, train.term_deposit)\n",
        "evaluate_model(model_random_forest, title='Random Forest')"
      ],
      "metadata": {
        "id": "HBo-IsTOj7F8"
      },
      "execution_count": null,
      "outputs": []
    },
    {
      "cell_type": "markdown",
      "source": [
        "Hay overfitting, para esto modificamos los hyperparametros dandole más profundidad"
      ],
      "metadata": {
        "id": "H7fBeUr6lnV7"
      }
    },
    {
      "cell_type": "code",
      "source": [
        "model_random_forest_modified = Pipeline([\n",
        "    ('mapper', mapper),\n",
        "    ('classifier', RandomForestClassifier(n_estimators=100, max_depth=15, max_features=15, random_state=100)),\n",
        "])\n",
        "model_random_forest_modified.fit(train, train.term_deposit)\n",
        "evaluate_model(model_random_forest_modified, title='Random Forest with Depth = 15')"
      ],
      "metadata": {
        "id": "rWnqqizYltp0"
      },
      "execution_count": null,
      "outputs": []
    },
    {
      "cell_type": "markdown",
      "source": [
        "### **Gradient Boosting Classifier**"
      ],
      "metadata": {
        "id": "W6uoQjdJyoMw"
      }
    },
    {
      "cell_type": "code",
      "source": [
        "model_gradient_boosting = Pipeline([\n",
        "    ('mapper', mapper),\n",
        "    ('classifier', GradientBoostingClassifier(random_state=42)),\n",
        "])\n",
        "model_gradient_boosting.fit(train, train.term_deposit)\n",
        "evaluate_model(model_gradient_boosting, title='Gradient Boosting Classifier')"
      ],
      "metadata": {
        "id": "Zy81SYy2ypHZ"
      },
      "execution_count": null,
      "outputs": []
    },
    {
      "cell_type": "markdown",
      "source": [
        "### **KNN**"
      ],
      "metadata": {
        "id": "VE9OQke9fM2G"
      }
    },
    {
      "cell_type": "code",
      "source": [
        "model_knn = Pipeline([\n",
        "    ('mapper', mapper),\n",
        "    ('classifier', KNeighborsClassifier(n_neighbors=3)),\n",
        "])\n",
        "model_knn.fit(train, train.term_deposit)\n",
        "evaluate_model(model_knn, title='K Nearest Neighbors with K = 6')"
      ],
      "metadata": {
        "id": "9LLsflFfn_Ns"
      },
      "execution_count": null,
      "outputs": []
    },
    {
      "cell_type": "code",
      "source": [
        "model_knn = Pipeline([\n",
        "    ('mapper', mapper),\n",
        "    ('classifier', KNeighborsClassifier(n_neighbors=10)),\n",
        "])\n",
        "model_knn.fit(train, train.term_deposit)\n",
        "evaluate_model(model_knn, title='K Nearest Neighbors with K = 10')"
      ],
      "metadata": {
        "id": "QpB-cmeKfN8N"
      },
      "execution_count": null,
      "outputs": []
    },
    {
      "cell_type": "markdown",
      "source": [
        "## OVERFITTING"
      ],
      "metadata": {
        "id": "j2vNABaUpzg3"
      }
    },
    {
      "cell_type": "code",
      "source": [
        "def generate_curve(selected_model=\"DecisionTree\", list_to_iterate=list(range(1, 11))):\n",
        "  train_prediction =  []\n",
        "  eval_prediction = []\n",
        "  for x in list_to_iterate:\n",
        "    models = {\n",
        "                \"DecisionTree\": Pipeline([\n",
        "                  ('mapper', mapper),\n",
        "                  ('classifier', DecisionTreeClassifier(max_depth=x, random_state=100)),\n",
        "                ]),\n",
        "                \"RandomForest\": Pipeline([\n",
        "                  ('mapper', mapper),\n",
        "                  ('classifier', RandomForestClassifier(n_estimators=100, max_depth=x, max_features=15, random_state=100)),\n",
        "                ]),\n",
        "                \"KNN\": Pipeline([\n",
        "                  ('mapper', mapper),\n",
        "                  ('classifier', KNeighborsClassifier(n_neighbors=x)),\n",
        "                ])\n",
        "              }\n",
        "    model = models[selected_model]\n",
        "    model=model.fit(train, train.term_deposit)    \n",
        "    train_prediction.append(model.score(train, train.term_deposit))\n",
        "    eval_prediction.append(model.score(validation, validation.term_deposit))\n",
        "  plt.plot(list_to_iterate, train_prediction, color='r', label='Train')\n",
        "  plt.plot(list_to_iterate, eval_prediction, color='b', label='Validation')\n",
        "  plt.title('Grafico ' + selected_model)\n",
        "  plt.legend()\n",
        "  plt.ylabel('Precisión')\n",
        "  plt.xlabel('Cantidad de vecinos')\n",
        "  plt.show()"
      ],
      "metadata": {
        "id": "T0DCcKPgUHKx"
      },
      "execution_count": null,
      "outputs": []
    },
    {
      "cell_type": "markdown",
      "source": [
        "### Curva para Árbol de decisión"
      ],
      "metadata": {
        "id": "VX8CKScNTGLR"
      }
    },
    {
      "cell_type": "code",
      "source": [
        "generate_curve(\"DecisionTree\")"
      ],
      "metadata": {
        "id": "PW4o4jSwTIoM"
      },
      "execution_count": null,
      "outputs": []
    },
    {
      "cell_type": "markdown",
      "source": [
        ""
      ],
      "metadata": {
        "id": "atsTsKglTI7e"
      }
    },
    {
      "cell_type": "markdown",
      "source": [
        "### Curva para Random Forest"
      ],
      "metadata": {
        "id": "2tIfSt8sSzFd"
      }
    },
    {
      "cell_type": "code",
      "source": [
        "generate_curve(\"RandomForest\")"
      ],
      "metadata": {
        "id": "SzlJitIyTDwV"
      },
      "execution_count": null,
      "outputs": []
    },
    {
      "cell_type": "markdown",
      "source": [
        ""
      ],
      "metadata": {
        "id": "yZFXchUITELt"
      }
    },
    {
      "cell_type": "markdown",
      "source": [
        "### Curva para KNN"
      ],
      "metadata": {
        "id": "k-fnv9ztSqnJ"
      }
    },
    {
      "cell_type": "code",
      "source": [
        "generate_curve(\"KNN\")"
      ],
      "metadata": {
        "id": "uo82bUIUp1Sa"
      },
      "execution_count": null,
      "outputs": []
    },
    {
      "cell_type": "markdown",
      "source": [
        "Como podemos ver en el gráfico anterior, entre un K de 4 a 8 se encuentra el valor más eficiente para el algoritmo KNN. Luego de ésto podemos ver como ambas líneas convergen hacia el 0.91 aproximadamente, es decir se estancan y deja de aprender."
      ],
      "metadata": {
        "id": "5SnyJnTH--Kp"
      }
    },
    {
      "cell_type": "markdown",
      "source": [
        "## COMPARACIÓN FINAL ENTRE LOS DISTINTOS MODELOS\n",
        "Comparación entre:\n",
        "- Logistic Regression\n",
        "- Arbol de Decisión\n",
        "- Random Forest\n",
        "- Gradient Boosting Classifier\n",
        "- KNN\n",
        "- Neural Networks MLP"
      ],
      "metadata": {
        "id": "auxEnx0q24Vh"
      }
    },
    {
      "cell_type": "code",
      "source": [
        "evaluate_model(model_logistic_regression, title='Logistic Regression', set_names=('train', 'validation', 'test'), is_feature_engineering=False, show_confusion_matrix=False)\n",
        "evaluate_model(model_tree_decision, title='Arbol de Decisión', set_names=('train', 'validation', 'test'), is_feature_engineering=False, show_confusion_matrix=False)\n",
        "evaluate_model(model_random_forest_modified, title='Random Forest with Depth = 15', set_names=('train', 'validation', 'test'), is_feature_engineering=False, show_confusion_matrix=False)\n",
        "evaluate_model(model_gradient_boosting, title='Gradient Boosting Classifier', set_names=('train', 'validation', 'test'), is_feature_engineering=False, show_confusion_matrix=False)\n",
        "evaluate_model(model_knn, title='K Nearest Neighbors with K = 6', set_names=('train', 'validation', 'test'), is_feature_engineering=False, show_confusion_matrix=False)"
      ],
      "metadata": {
        "id": "18T2v-WB3Mpo"
      },
      "execution_count": null,
      "outputs": []
    },
    {
      "cell_type": "markdown",
      "source": [
        "Como podemos ver arriba..."
      ],
      "metadata": {
        "id": "9CABcZrF89x4"
      }
    },
    {
      "cell_type": "markdown",
      "source": [
        "### Still need to finish the rest of the conclusions!"
      ],
      "metadata": {
        "id": "GmxXlt5V3-wi"
      }
    }
  ],
  "metadata": {
    "kernelspec": {
      "display_name": "Python 3",
      "language": "python",
      "name": "python3"
    },
    "language_info": {
      "codemirror_mode": {
        "name": "ipython",
        "version": 3
      },
      "file_extension": ".py",
      "mimetype": "text/x-python",
      "name": "python",
      "nbconvert_exporter": "python",
      "pygments_lexer": "ipython3",
      "version": "3.6.7"
    },
    "colab": {
      "name": "tp2_experimentation.ipynb",
      "provenance": [],
      "private_outputs": true,
      "collapsed_sections": [],
      "toc_visible": true
    }
  },
  "nbformat": 4,
  "nbformat_minor": 0
}